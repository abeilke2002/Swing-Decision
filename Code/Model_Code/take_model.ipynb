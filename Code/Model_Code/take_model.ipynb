{
 "cells": [
  {
   "cell_type": "markdown",
   "metadata": {},
   "source": [
    "# [A model to predict the delta run expectancy of a pitch not swung at]"
   ]
  },
  {
   "cell_type": "code",
   "execution_count": 6,
   "metadata": {},
   "outputs": [],
   "source": [
    "import pandas as pd\n",
    "import time as time\n",
    "import numpy as np\n",
    "\n",
    "from scipy.stats import zscore\n",
    "\n",
    "import pybaseball\n",
    "from pybaseball import statcast\n",
    "from pybaseball import chadwick_register\n",
    "\n",
    "import matplotlib.pyplot as plt\n",
    "import seaborn as sns\n",
    "\n",
    "import sklearn \n",
    "from sklearn.preprocessing import StandardScaler\n",
    "from sklearn.model_selection import cross_validate, train_test_split\n",
    "from sklearn.metrics import make_scorer, mean_squared_error, mean_absolute_error, r2_score\n",
    "\n",
    "from sklearn.linear_model import LinearRegression, Ridge\n",
    "from sklearn.neighbors import KNeighborsRegressor\n",
    "from sklearn.tree import DecisionTreeRegressor\n",
    "from sklearn.ensemble import RandomForestRegressor, GradientBoostingRegressor\n",
    "from xgboost import XGBRegressor\n",
    "\n",
    "import hyperopt.hp as hp\n",
    "from hyperopt import fmin, tpe, Trials, STATUS_OK\n",
    "\n",
    "import joblib\n"
   ]
  },
  {
   "cell_type": "code",
   "execution_count": 7,
   "metadata": {},
   "outputs": [],
   "source": [
    "path = '/Users/aidanbeilke/Desktop/Baseball Projects'\n",
    "\n",
    "data = pd.read_csv(f\"{path}/attack_df.csv\")"
   ]
  },
  {
   "cell_type": "code",
   "execution_count": 8,
   "metadata": {},
   "outputs": [
    {
     "data": {
      "text/plain": [
       "(713552, 97)"
      ]
     },
     "execution_count": 8,
     "metadata": {},
     "output_type": "execute_result"
    }
   ],
   "source": [
    "data.shape"
   ]
  },
  {
   "cell_type": "code",
   "execution_count": 9,
   "metadata": {},
   "outputs": [],
   "source": [
    "data = data.drop(columns = ['Unnamed: 0'])"
   ]
  },
  {
   "cell_type": "code",
   "execution_count": 10,
   "metadata": {},
   "outputs": [
    {
     "data": {
      "text/html": [
       "<div>\n",
       "<style scoped>\n",
       "    .dataframe tbody tr th:only-of-type {\n",
       "        vertical-align: middle;\n",
       "    }\n",
       "\n",
       "    .dataframe tbody tr th {\n",
       "        vertical-align: top;\n",
       "    }\n",
       "\n",
       "    .dataframe thead th {\n",
       "        text-align: right;\n",
       "    }\n",
       "</style>\n",
       "<table border=\"1\" class=\"dataframe\">\n",
       "  <thead>\n",
       "    <tr style=\"text-align: right;\">\n",
       "      <th></th>\n",
       "      <th>pitch_type</th>\n",
       "      <th>game_date</th>\n",
       "      <th>release_speed</th>\n",
       "      <th>release_pos_x</th>\n",
       "      <th>release_pos_z</th>\n",
       "      <th>player_name</th>\n",
       "      <th>batter</th>\n",
       "      <th>pitcher</th>\n",
       "      <th>events</th>\n",
       "      <th>description</th>\n",
       "      <th>...</th>\n",
       "      <th>post_fld_score</th>\n",
       "      <th>if_fielding_alignment</th>\n",
       "      <th>of_fielding_alignment</th>\n",
       "      <th>spin_axis</th>\n",
       "      <th>delta_home_win_exp</th>\n",
       "      <th>delta_run_exp</th>\n",
       "      <th>bat_speed</th>\n",
       "      <th>swing_length</th>\n",
       "      <th>attack_zone</th>\n",
       "      <th>swing</th>\n",
       "    </tr>\n",
       "  </thead>\n",
       "  <tbody>\n",
       "    <tr>\n",
       "      <th>0</th>\n",
       "      <td>FF</td>\n",
       "      <td>2023-09-30</td>\n",
       "      <td>96.1</td>\n",
       "      <td>-2.08</td>\n",
       "      <td>5.57</td>\n",
       "      <td>Smith, Drew</td>\n",
       "      <td>664761</td>\n",
       "      <td>622098</td>\n",
       "      <td>field_out</td>\n",
       "      <td>hit_into_play</td>\n",
       "      <td>...</td>\n",
       "      <td>11</td>\n",
       "      <td>Standard</td>\n",
       "      <td>Standard</td>\n",
       "      <td>212.0</td>\n",
       "      <td>0.0</td>\n",
       "      <td>-0.074</td>\n",
       "      <td>NaN</td>\n",
       "      <td>NaN</td>\n",
       "      <td>waste</td>\n",
       "      <td>Y</td>\n",
       "    </tr>\n",
       "    <tr>\n",
       "      <th>1</th>\n",
       "      <td>FF</td>\n",
       "      <td>2023-09-30</td>\n",
       "      <td>96.5</td>\n",
       "      <td>-1.94</td>\n",
       "      <td>5.59</td>\n",
       "      <td>Smith, Drew</td>\n",
       "      <td>664761</td>\n",
       "      <td>622098</td>\n",
       "      <td>NaN</td>\n",
       "      <td>foul</td>\n",
       "      <td>...</td>\n",
       "      <td>11</td>\n",
       "      <td>Standard</td>\n",
       "      <td>Standard</td>\n",
       "      <td>209.0</td>\n",
       "      <td>0.0</td>\n",
       "      <td>0.000</td>\n",
       "      <td>NaN</td>\n",
       "      <td>NaN</td>\n",
       "      <td>heart</td>\n",
       "      <td>Y</td>\n",
       "    </tr>\n",
       "    <tr>\n",
       "      <th>2</th>\n",
       "      <td>SL</td>\n",
       "      <td>2023-09-30</td>\n",
       "      <td>86.6</td>\n",
       "      <td>-1.91</td>\n",
       "      <td>5.54</td>\n",
       "      <td>Smith, Drew</td>\n",
       "      <td>664761</td>\n",
       "      <td>622098</td>\n",
       "      <td>NaN</td>\n",
       "      <td>ball</td>\n",
       "      <td>...</td>\n",
       "      <td>11</td>\n",
       "      <td>Standard</td>\n",
       "      <td>Standard</td>\n",
       "      <td>114.0</td>\n",
       "      <td>0.0</td>\n",
       "      <td>0.009</td>\n",
       "      <td>NaN</td>\n",
       "      <td>NaN</td>\n",
       "      <td>chase</td>\n",
       "      <td>N</td>\n",
       "    </tr>\n",
       "    <tr>\n",
       "      <th>3</th>\n",
       "      <td>SL</td>\n",
       "      <td>2023-09-30</td>\n",
       "      <td>87.1</td>\n",
       "      <td>-2.01</td>\n",
       "      <td>5.55</td>\n",
       "      <td>Smith, Drew</td>\n",
       "      <td>664761</td>\n",
       "      <td>622098</td>\n",
       "      <td>NaN</td>\n",
       "      <td>swinging_strike</td>\n",
       "      <td>...</td>\n",
       "      <td>11</td>\n",
       "      <td>Standard</td>\n",
       "      <td>Standard</td>\n",
       "      <td>108.0</td>\n",
       "      <td>0.0</td>\n",
       "      <td>-0.023</td>\n",
       "      <td>NaN</td>\n",
       "      <td>NaN</td>\n",
       "      <td>chase</td>\n",
       "      <td>Y</td>\n",
       "    </tr>\n",
       "    <tr>\n",
       "      <th>4</th>\n",
       "      <td>FF</td>\n",
       "      <td>2023-09-30</td>\n",
       "      <td>95.9</td>\n",
       "      <td>-2.10</td>\n",
       "      <td>5.51</td>\n",
       "      <td>Smith, Drew</td>\n",
       "      <td>664761</td>\n",
       "      <td>622098</td>\n",
       "      <td>NaN</td>\n",
       "      <td>foul</td>\n",
       "      <td>...</td>\n",
       "      <td>11</td>\n",
       "      <td>Standard</td>\n",
       "      <td>Standard</td>\n",
       "      <td>215.0</td>\n",
       "      <td>0.0</td>\n",
       "      <td>-0.017</td>\n",
       "      <td>NaN</td>\n",
       "      <td>NaN</td>\n",
       "      <td>shadow</td>\n",
       "      <td>Y</td>\n",
       "    </tr>\n",
       "  </tbody>\n",
       "</table>\n",
       "<p>5 rows × 96 columns</p>\n",
       "</div>"
      ],
      "text/plain": [
       "  pitch_type   game_date  release_speed  release_pos_x  release_pos_z  \\\n",
       "0         FF  2023-09-30           96.1          -2.08           5.57   \n",
       "1         FF  2023-09-30           96.5          -1.94           5.59   \n",
       "2         SL  2023-09-30           86.6          -1.91           5.54   \n",
       "3         SL  2023-09-30           87.1          -2.01           5.55   \n",
       "4         FF  2023-09-30           95.9          -2.10           5.51   \n",
       "\n",
       "   player_name  batter  pitcher     events      description  ...  \\\n",
       "0  Smith, Drew  664761   622098  field_out    hit_into_play  ...   \n",
       "1  Smith, Drew  664761   622098        NaN             foul  ...   \n",
       "2  Smith, Drew  664761   622098        NaN             ball  ...   \n",
       "3  Smith, Drew  664761   622098        NaN  swinging_strike  ...   \n",
       "4  Smith, Drew  664761   622098        NaN             foul  ...   \n",
       "\n",
       "   post_fld_score  if_fielding_alignment  of_fielding_alignment  spin_axis  \\\n",
       "0              11               Standard               Standard      212.0   \n",
       "1              11               Standard               Standard      209.0   \n",
       "2              11               Standard               Standard      114.0   \n",
       "3              11               Standard               Standard      108.0   \n",
       "4              11               Standard               Standard      215.0   \n",
       "\n",
       "   delta_home_win_exp delta_run_exp bat_speed swing_length attack_zone swing  \n",
       "0                 0.0        -0.074       NaN          NaN       waste     Y  \n",
       "1                 0.0         0.000       NaN          NaN       heart     Y  \n",
       "2                 0.0         0.009       NaN          NaN       chase     N  \n",
       "3                 0.0        -0.023       NaN          NaN       chase     Y  \n",
       "4                 0.0        -0.017       NaN          NaN      shadow     Y  \n",
       "\n",
       "[5 rows x 96 columns]"
      ]
     },
     "execution_count": 10,
     "metadata": {},
     "output_type": "execute_result"
    }
   ],
   "source": [
    "data.head()"
   ]
  },
  {
   "cell_type": "markdown",
   "metadata": {},
   "source": [
    "### Model Building"
   ]
  },
  {
   "cell_type": "code",
   "execution_count": 11,
   "metadata": {},
   "outputs": [],
   "source": [
    "cols = ['balls', 'strikes', 'release_speed','release_spin_rate' ,'pitch_type', 'pfx_x', 'pfx_z', 'delta_run_exp', 'plate_x', 'plate_z', 'attack_zone', 'p_throws']\n",
    "\n",
    "continuous_cols = ['plate_x', 'plate_z', 'release_speed', 'pfx_x', 'pfx_z', 'release_spin_rate']\n",
    "\n",
    "cat_cols = ['balls', 'strikes', 'pitch_type', 'attack_zone', 'p_throws']"
   ]
  },
  {
   "cell_type": "code",
   "execution_count": 12,
   "metadata": {},
   "outputs": [],
   "source": [
    "# Takes only\n",
    "\n",
    "data_ = data[~data['description'].isin(['hit_into_play', 'swinging_strike', 'foul'])]"
   ]
  },
  {
   "cell_type": "code",
   "execution_count": 13,
   "metadata": {},
   "outputs": [
    {
     "data": {
      "text/plain": [
       "(387084, 12)"
      ]
     },
     "execution_count": 13,
     "metadata": {},
     "output_type": "execute_result"
    }
   ],
   "source": [
    "model_df = data_[cols]\n",
    "\n",
    "model_df.shape"
   ]
  },
  {
   "cell_type": "code",
   "execution_count": 14,
   "metadata": {},
   "outputs": [
    {
     "name": "stderr",
     "output_type": "stream",
     "text": [
      "/var/folders/z9/0qsxxzxs1hb9r22xy18sfdbc0000gn/T/ipykernel_82044/4067100459.py:1: SettingWithCopyWarning: \n",
      "A value is trying to be set on a copy of a slice from a DataFrame.\n",
      "Try using .loc[row_indexer,col_indexer] = value instead\n",
      "\n",
      "See the caveats in the documentation: https://pandas.pydata.org/pandas-docs/stable/user_guide/indexing.html#returning-a-view-versus-a-copy\n",
      "  model_df[continuous_cols] = StandardScaler().fit_transform(model_df[continuous_cols])\n"
     ]
    }
   ],
   "source": [
    "model_df[continuous_cols] = StandardScaler().fit_transform(model_df[continuous_cols])\n"
   ]
  },
  {
   "cell_type": "code",
   "execution_count": 15,
   "metadata": {},
   "outputs": [
    {
     "data": {
      "text/plain": [
       "(387084, 12)"
      ]
     },
     "execution_count": 15,
     "metadata": {},
     "output_type": "execute_result"
    }
   ],
   "source": [
    "model_df.shape"
   ]
  },
  {
   "cell_type": "markdown",
   "metadata": {},
   "source": [
    "### Check NA Values"
   ]
  },
  {
   "cell_type": "code",
   "execution_count": 16,
   "metadata": {},
   "outputs": [
    {
     "data": {
      "text/plain": [
       "['release_speed',\n",
       " 'release_spin_rate',\n",
       " 'pitch_type',\n",
       " 'pfx_x',\n",
       " 'pfx_z',\n",
       " 'delta_run_exp',\n",
       " 'plate_x',\n",
       " 'plate_z']"
      ]
     },
     "execution_count": 16,
     "metadata": {},
     "output_type": "execute_result"
    }
   ],
   "source": [
    "model_df.columns[model_df.isna().any()].tolist()"
   ]
  },
  {
   "cell_type": "code",
   "execution_count": 17,
   "metadata": {},
   "outputs": [
    {
     "data": {
      "text/plain": [
       "balls                0.000000\n",
       "strikes              0.000000\n",
       "release_speed        0.000377\n",
       "release_spin_rate    0.006022\n",
       "pitch_type           0.000369\n",
       "pfx_x                0.000377\n",
       "pfx_z                0.000377\n",
       "delta_run_exp        0.000134\n",
       "plate_x              0.000377\n",
       "plate_z              0.000377\n",
       "attack_zone          0.000000\n",
       "p_throws             0.000000\n",
       "dtype: float64"
      ]
     },
     "execution_count": 17,
     "metadata": {},
     "output_type": "execute_result"
    }
   ],
   "source": [
    "def calculate_null_percentage(df):\n",
    "\n",
    "    null_pct = df.isnull().mean()\n",
    "    return null_pct\n",
    "\n",
    "null_pct = calculate_null_percentage(model_df)\n",
    "null_pct"
   ]
  },
  {
   "cell_type": "code",
   "execution_count": 18,
   "metadata": {},
   "outputs": [],
   "source": [
    "model_df = model_df.dropna()"
   ]
  },
  {
   "cell_type": "code",
   "execution_count": 19,
   "metadata": {},
   "outputs": [
    {
     "data": {
      "text/html": [
       "<div>\n",
       "<style scoped>\n",
       "    .dataframe tbody tr th:only-of-type {\n",
       "        vertical-align: middle;\n",
       "    }\n",
       "\n",
       "    .dataframe tbody tr th {\n",
       "        vertical-align: top;\n",
       "    }\n",
       "\n",
       "    .dataframe thead th {\n",
       "        text-align: right;\n",
       "    }\n",
       "</style>\n",
       "<table border=\"1\" class=\"dataframe\">\n",
       "  <thead>\n",
       "    <tr style=\"text-align: right;\">\n",
       "      <th></th>\n",
       "      <th>balls</th>\n",
       "      <th>strikes</th>\n",
       "      <th>release_speed</th>\n",
       "      <th>release_spin_rate</th>\n",
       "      <th>pitch_type</th>\n",
       "      <th>pfx_x</th>\n",
       "      <th>pfx_z</th>\n",
       "      <th>delta_run_exp</th>\n",
       "      <th>plate_x</th>\n",
       "      <th>plate_z</th>\n",
       "      <th>attack_zone</th>\n",
       "      <th>p_throws</th>\n",
       "    </tr>\n",
       "  </thead>\n",
       "  <tbody>\n",
       "    <tr>\n",
       "      <th>2</th>\n",
       "      <td>0</td>\n",
       "      <td>2</td>\n",
       "      <td>-0.361818</td>\n",
       "      <td>1.056993</td>\n",
       "      <td>13</td>\n",
       "      <td>0.665269</td>\n",
       "      <td>-0.936702</td>\n",
       "      <td>0.009</td>\n",
       "      <td>1.193390</td>\n",
       "      <td>-0.562704</td>\n",
       "      <td>0</td>\n",
       "      <td>1</td>\n",
       "    </tr>\n",
       "    <tr>\n",
       "      <th>7</th>\n",
       "      <td>1</td>\n",
       "      <td>1</td>\n",
       "      <td>-0.442778</td>\n",
       "      <td>-1.043760</td>\n",
       "      <td>0</td>\n",
       "      <td>-1.393044</td>\n",
       "      <td>0.342016</td>\n",
       "      <td>0.053</td>\n",
       "      <td>0.708823</td>\n",
       "      <td>-1.252084</td>\n",
       "      <td>0</td>\n",
       "      <td>1</td>\n",
       "    </tr>\n",
       "    <tr>\n",
       "      <th>9</th>\n",
       "      <td>0</td>\n",
       "      <td>0</td>\n",
       "      <td>-1.900046</td>\n",
       "      <td>1.252826</td>\n",
       "      <td>2</td>\n",
       "      <td>1.533098</td>\n",
       "      <td>-1.679183</td>\n",
       "      <td>0.036</td>\n",
       "      <td>-1.360684</td>\n",
       "      <td>2.229723</td>\n",
       "      <td>3</td>\n",
       "      <td>1</td>\n",
       "    </tr>\n",
       "    <tr>\n",
       "      <th>14</th>\n",
       "      <td>1</td>\n",
       "      <td>2</td>\n",
       "      <td>-1.236179</td>\n",
       "      <td>-1.426524</td>\n",
       "      <td>0</td>\n",
       "      <td>1.811249</td>\n",
       "      <td>-0.634209</td>\n",
       "      <td>0.029</td>\n",
       "      <td>0.315112</td>\n",
       "      <td>-1.758212</td>\n",
       "      <td>3</td>\n",
       "      <td>0</td>\n",
       "    </tr>\n",
       "    <tr>\n",
       "      <th>16</th>\n",
       "      <td>0</td>\n",
       "      <td>1</td>\n",
       "      <td>0.723037</td>\n",
       "      <td>-1.509604</td>\n",
       "      <td>12</td>\n",
       "      <td>1.855753</td>\n",
       "      <td>-0.702958</td>\n",
       "      <td>0.019</td>\n",
       "      <td>-1.128495</td>\n",
       "      <td>0.423372</td>\n",
       "      <td>2</td>\n",
       "      <td>0</td>\n",
       "    </tr>\n",
       "    <tr>\n",
       "      <th>...</th>\n",
       "      <td>...</td>\n",
       "      <td>...</td>\n",
       "      <td>...</td>\n",
       "      <td>...</td>\n",
       "      <td>...</td>\n",
       "      <td>...</td>\n",
       "      <td>...</td>\n",
       "      <td>...</td>\n",
       "      <td>...</td>\n",
       "      <td>...</td>\n",
       "      <td>...</td>\n",
       "      <td>...</td>\n",
       "    </tr>\n",
       "    <tr>\n",
       "      <th>713547</th>\n",
       "      <td>3</td>\n",
       "      <td>1</td>\n",
       "      <td>1.046874</td>\n",
       "      <td>-0.396918</td>\n",
       "      <td>12</td>\n",
       "      <td>-1.749076</td>\n",
       "      <td>-0.152972</td>\n",
       "      <td>-0.079</td>\n",
       "      <td>-1.057829</td>\n",
       "      <td>0.432098</td>\n",
       "      <td>2</td>\n",
       "      <td>1</td>\n",
       "    </tr>\n",
       "    <tr>\n",
       "      <th>713548</th>\n",
       "      <td>3</td>\n",
       "      <td>0</td>\n",
       "      <td>0.868764</td>\n",
       "      <td>0.089697</td>\n",
       "      <td>6</td>\n",
       "      <td>-1.292910</td>\n",
       "      <td>0.809504</td>\n",
       "      <td>-0.078</td>\n",
       "      <td>-0.795355</td>\n",
       "      <td>0.589172</td>\n",
       "      <td>2</td>\n",
       "      <td>1</td>\n",
       "    </tr>\n",
       "    <tr>\n",
       "      <th>713549</th>\n",
       "      <td>2</td>\n",
       "      <td>0</td>\n",
       "      <td>0.965915</td>\n",
       "      <td>-0.390983</td>\n",
       "      <td>6</td>\n",
       "      <td>-0.758861</td>\n",
       "      <td>0.850753</td>\n",
       "      <td>0.135</td>\n",
       "      <td>1.556815</td>\n",
       "      <td>0.179034</td>\n",
       "      <td>0</td>\n",
       "      <td>1</td>\n",
       "    </tr>\n",
       "    <tr>\n",
       "      <th>713550</th>\n",
       "      <td>1</td>\n",
       "      <td>0</td>\n",
       "      <td>1.014490</td>\n",
       "      <td>-0.379115</td>\n",
       "      <td>12</td>\n",
       "      <td>-1.771328</td>\n",
       "      <td>-0.221720</td>\n",
       "      <td>0.064</td>\n",
       "      <td>-1.380874</td>\n",
       "      <td>0.013234</td>\n",
       "      <td>3</td>\n",
       "      <td>1</td>\n",
       "    </tr>\n",
       "    <tr>\n",
       "      <th>713551</th>\n",
       "      <td>0</td>\n",
       "      <td>0</td>\n",
       "      <td>1.014490</td>\n",
       "      <td>0.430921</td>\n",
       "      <td>6</td>\n",
       "      <td>-1.215027</td>\n",
       "      <td>0.919501</td>\n",
       "      <td>0.036</td>\n",
       "      <td>-1.320303</td>\n",
       "      <td>0.301203</td>\n",
       "      <td>3</td>\n",
       "      <td>1</td>\n",
       "    </tr>\n",
       "  </tbody>\n",
       "</table>\n",
       "<p>384701 rows × 12 columns</p>\n",
       "</div>"
      ],
      "text/plain": [
       "        balls  strikes  release_speed  release_spin_rate  pitch_type  \\\n",
       "2           0        2      -0.361818           1.056993          13   \n",
       "7           1        1      -0.442778          -1.043760           0   \n",
       "9           0        0      -1.900046           1.252826           2   \n",
       "14          1        2      -1.236179          -1.426524           0   \n",
       "16          0        1       0.723037          -1.509604          12   \n",
       "...       ...      ...            ...                ...         ...   \n",
       "713547      3        1       1.046874          -0.396918          12   \n",
       "713548      3        0       0.868764           0.089697           6   \n",
       "713549      2        0       0.965915          -0.390983           6   \n",
       "713550      1        0       1.014490          -0.379115          12   \n",
       "713551      0        0       1.014490           0.430921           6   \n",
       "\n",
       "           pfx_x     pfx_z  delta_run_exp   plate_x   plate_z  attack_zone  \\\n",
       "2       0.665269 -0.936702          0.009  1.193390 -0.562704            0   \n",
       "7      -1.393044  0.342016          0.053  0.708823 -1.252084            0   \n",
       "9       1.533098 -1.679183          0.036 -1.360684  2.229723            3   \n",
       "14      1.811249 -0.634209          0.029  0.315112 -1.758212            3   \n",
       "16      1.855753 -0.702958          0.019 -1.128495  0.423372            2   \n",
       "...          ...       ...            ...       ...       ...          ...   \n",
       "713547 -1.749076 -0.152972         -0.079 -1.057829  0.432098            2   \n",
       "713548 -1.292910  0.809504         -0.078 -0.795355  0.589172            2   \n",
       "713549 -0.758861  0.850753          0.135  1.556815  0.179034            0   \n",
       "713550 -1.771328 -0.221720          0.064 -1.380874  0.013234            3   \n",
       "713551 -1.215027  0.919501          0.036 -1.320303  0.301203            3   \n",
       "\n",
       "        p_throws  \n",
       "2              1  \n",
       "7              1  \n",
       "9              1  \n",
       "14             0  \n",
       "16             0  \n",
       "...          ...  \n",
       "713547         1  \n",
       "713548         1  \n",
       "713549         1  \n",
       "713550         1  \n",
       "713551         1  \n",
       "\n",
       "[384701 rows x 12 columns]"
      ]
     },
     "execution_count": 19,
     "metadata": {},
     "output_type": "execute_result"
    }
   ],
   "source": [
    "cats = ['pitch_type', 'attack_zone', 'p_throws']\n",
    "\n",
    "for i in cats:\n",
    "    model_df[i] = model_df[i].astype('category').cat.codes\n",
    "\n",
    "model_df"
   ]
  },
  {
   "cell_type": "markdown",
   "metadata": {},
   "source": [
    "### Model Selection"
   ]
  },
  {
   "cell_type": "code",
   "execution_count": 20,
   "metadata": {},
   "outputs": [],
   "source": [
    "X = model_df[continuous_cols + cat_cols]\n",
    "y = model_df['delta_run_exp']"
   ]
  },
  {
   "cell_type": "code",
   "execution_count": 21,
   "metadata": {},
   "outputs": [],
   "source": [
    "models = [\n",
    "    LinearRegression(),\n",
    "    KNeighborsRegressor(),\n",
    "    DecisionTreeRegressor(),\n",
    "    RandomForestRegressor(),\n",
    "    GradientBoostingRegressor(),\n",
    "    XGBRegressor(),\n",
    "    Ridge(alpha=1)\n",
    "]\n",
    "\n",
    "names = [\n",
    "    'Linear Regression',\n",
    "    'KNN',\n",
    "    'Decision Tree',\n",
    "    'Random Forest',\n",
    "    'Gradient Boosting',\n",
    "    'XGBoost',\n",
    "    'Ridge'\n",
    "]"
   ]
  },
  {
   "cell_type": "code",
   "execution_count": 58,
   "metadata": {},
   "outputs": [],
   "source": [
    "def rmse(y_true, y_pred):\n",
    "    return np.sqrt(mean_squared_error(y_true, y_pred))\n",
    "\n",
    "rmse_scorer = make_scorer(rmse, greater_is_better=False)"
   ]
  },
  {
   "cell_type": "code",
   "execution_count": 64,
   "metadata": {},
   "outputs": [
    {
     "name": "stdout",
     "output_type": "stream",
     "text": [
      "Time to cross-validate Linear Regression = 0.040 min.\n",
      "Time to cross-validate KNN = 1.647 min.\n",
      "Time to cross-validate Decision Tree = 0.521 min.\n",
      "Time to cross-validate Random Forest = 44.548 min.\n",
      "Time to cross-validate Gradient Boosting = 4.807 min.\n",
      "Time to cross-validate XGBoost = 0.107 min.\n",
      "Time to cross-validate Ridge = 0.012 min.\n"
     ]
    }
   ],
   "source": [
    "results = []\n",
    "\n",
    "for reg, name in zip(models, names):\n",
    "    start = time.time()\n",
    "    cv_results = cross_validate(reg, X, y, cv=5, scoring={\n",
    "        'MSE': make_scorer(mean_squared_error, greater_is_better=False),\n",
    "        'MAE': make_scorer(mean_absolute_error, greater_is_better=False),\n",
    "        'R2': 'r2',\n",
    "        'RMSE' : rmse_scorer\n",
    "    })\n",
    "    stop_time = time.time()\n",
    "\n",
    "    print('Time to cross-validate %s = %0.3f min.' % (name, (stop_time - start) / 60))\n",
    "\n",
    "    results.append({\n",
    "        'Regressor': name,\n",
    "        'MSE': -cv_results['test_MSE'].mean(),  \n",
    "        'MAE': -cv_results['test_MAE'].mean(),\n",
    "        'R^2 Score': cv_results['test_R2'].mean(),\n",
    "        'RMSE' : -cv_results['test_RMSE'].mean()\n",
    "    })\n",
    "    \n",
    "    results_df = pd.DataFrame(results)"
   ]
  },
  {
   "cell_type": "code",
   "execution_count": 65,
   "metadata": {},
   "outputs": [
    {
     "data": {
      "text/html": [
       "<div>\n",
       "<style scoped>\n",
       "    .dataframe tbody tr th:only-of-type {\n",
       "        vertical-align: middle;\n",
       "    }\n",
       "\n",
       "    .dataframe tbody tr th {\n",
       "        vertical-align: top;\n",
       "    }\n",
       "\n",
       "    .dataframe thead th {\n",
       "        text-align: right;\n",
       "    }\n",
       "</style>\n",
       "<table border=\"1\" class=\"dataframe\">\n",
       "  <thead>\n",
       "    <tr style=\"text-align: right;\">\n",
       "      <th></th>\n",
       "      <th>Regressor</th>\n",
       "      <th>MSE</th>\n",
       "      <th>MAE</th>\n",
       "      <th>R^2 Score</th>\n",
       "      <th>RMSE</th>\n",
       "    </tr>\n",
       "  </thead>\n",
       "  <tbody>\n",
       "    <tr>\n",
       "      <th>0</th>\n",
       "      <td>Linear Regression</td>\n",
       "      <td>0.008924</td>\n",
       "      <td>0.057769</td>\n",
       "      <td>0.038784</td>\n",
       "      <td>0.094456</td>\n",
       "    </tr>\n",
       "    <tr>\n",
       "      <th>1</th>\n",
       "      <td>KNN</td>\n",
       "      <td>0.006381</td>\n",
       "      <td>0.043012</td>\n",
       "      <td>0.312790</td>\n",
       "      <td>0.079868</td>\n",
       "    </tr>\n",
       "    <tr>\n",
       "      <th>2</th>\n",
       "      <td>Decision Tree</td>\n",
       "      <td>0.010532</td>\n",
       "      <td>0.051618</td>\n",
       "      <td>-0.135102</td>\n",
       "      <td>0.102625</td>\n",
       "    </tr>\n",
       "    <tr>\n",
       "      <th>3</th>\n",
       "      <td>Random Forest</td>\n",
       "      <td>0.005152</td>\n",
       "      <td>0.037050</td>\n",
       "      <td>0.445068</td>\n",
       "      <td>0.071769</td>\n",
       "    </tr>\n",
       "    <tr>\n",
       "      <th>4</th>\n",
       "      <td>Gradient Boosting</td>\n",
       "      <td>0.005287</td>\n",
       "      <td>0.037952</td>\n",
       "      <td>0.430691</td>\n",
       "      <td>0.072698</td>\n",
       "    </tr>\n",
       "    <tr>\n",
       "      <th>5</th>\n",
       "      <td>XGBoost</td>\n",
       "      <td>0.004888</td>\n",
       "      <td>0.035522</td>\n",
       "      <td>0.473569</td>\n",
       "      <td>0.069904</td>\n",
       "    </tr>\n",
       "  </tbody>\n",
       "</table>\n",
       "</div>"
      ],
      "text/plain": [
       "           Regressor       MSE       MAE  R^2 Score      RMSE\n",
       "0  Linear Regression  0.008924  0.057769   0.038784  0.094456\n",
       "1                KNN  0.006381  0.043012   0.312790  0.079868\n",
       "2      Decision Tree  0.010532  0.051618  -0.135102  0.102625\n",
       "3      Random Forest  0.005152  0.037050   0.445068  0.071769\n",
       "4  Gradient Boosting  0.005287  0.037952   0.430691  0.072698\n",
       "5            XGBoost  0.004888  0.035522   0.473569  0.069904"
      ]
     },
     "execution_count": 65,
     "metadata": {},
     "output_type": "execute_result"
    }
   ],
   "source": [
    "results_df.head(6)"
   ]
  },
  {
   "cell_type": "markdown",
   "metadata": {},
   "source": [
    "### XGBoost Model Out-of-Box Params Results"
   ]
  },
  {
   "cell_type": "code",
   "execution_count": 22,
   "metadata": {},
   "outputs": [
    {
     "data": {
      "image/png": "[encoded data removed]",
      "text/plain": [
       "<Figure size 1000x600 with 1 Axes>"
      ]
     },
     "metadata": {},
     "output_type": "display_data"
    },
    {
     "name": "stdout",
     "output_type": "stream",
     "text": [
      "RMSE of the XGBoost on test set: 0.070\n",
      "R^2 Score of the XGBoost on test set: 0.475\n",
      "MAE of the XGBoost on test set: 0.036\n"
     ]
    }
   ],
   "source": [
    "X_train, X_test, y_train, y_test = train_test_split(X, y, test_size=0.2, random_state=42)\n",
    "\n",
    "# Model training\n",
    "orig_model = XGBRegressor()\n",
    "orig_model.fit(X_train, y_train)\n",
    "\n",
    "# Feature Importance\n",
    "feat_imp = orig_model.feature_importances_\n",
    "sorted_indices = np.argsort(feat_imp)\n",
    "predictors = X.columns.tolist()  # ensure X is a DataFrame for this line to work\n",
    "\n",
    "# Sort feature importances and corresponding feature names\n",
    "feat_imp_sorted = feat_imp[sorted_indices]\n",
    "predictors_sorted = [predictors[i] for i in sorted_indices]\n",
    "\n",
    "# Create a horizontal bar plot for sorted feature importances\n",
    "plt.figure(figsize=(10, 6))\n",
    "plt.barh(predictors_sorted, feat_imp_sorted, color='skyblue')\n",
    "plt.xlabel('Feature Importance')\n",
    "plt.ylabel('Features')\n",
    "plt.title('Importance of Features')\n",
    "plt.show()\n",
    "\n",
    "# Model Evaluation for Regression\n",
    "y_pred = orig_model.predict(X_test)\n",
    "mse = mean_squared_error(y_test, y_pred)\n",
    "rmse = np.sqrt(mse)\n",
    "r2 = r2_score(y_test, y_pred)\n",
    "mae = mean_absolute_error(y_test, y_pred)\n",
    "\n",
    "print('RMSE of the XGBoost on test set: {:.3f}'.format(rmse))\n",
    "print('R^2 Score of the XGBoost on test set: {:.3f}'.format(r2))\n",
    "print('MAE of the XGBoost on test set: {:.3f}'.format(mae))"
   ]
  },
  {
   "cell_type": "markdown",
   "metadata": {},
   "source": [
    "### XGBoost Tuning"
   ]
  },
  {
   "cell_type": "code",
   "execution_count": 67,
   "metadata": {},
   "outputs": [],
   "source": [
    "# reduce noise\n",
    "\n",
    "X = model_df[['attack_zone', 'balls', 'strikes', 'plate_x', 'plate_z']]\n",
    "y = model_df['delta_run_exp']"
   ]
  },
  {
   "cell_type": "code",
   "execution_count": 25,
   "metadata": {},
   "outputs": [],
   "source": [
    "space = {\n",
    "    'n_estimators': hp.quniform('n_estimators', 100, 1000, 50),\n",
    "    'max_depth': hp.quniform('max_depth', 3, 15, 1),\n",
    "    'learning_rate': hp.uniform('learning_rate', 0.01, 0.2),\n",
    "    'min_child_weight': hp.quniform('min_child_weight', 1, 10, 1),\n",
    "    'subsample': hp.uniform('subsample', 0.5, 1.0),\n",
    "    'colsample_bytree': hp.uniform('colsample_bytree', 0.5, 1.0),\n",
    "    'gamma': hp.uniform('gamma', 0, 1),\n",
    "    'reg_alpha': hp.uniform('reg_alpha', 0, 1),\n",
    "    'reg_lambda': hp.uniform('reg_lambda', 0, 1),\n",
    "}"
   ]
  },
  {
   "cell_type": "code",
   "execution_count": 88,
   "metadata": {},
   "outputs": [],
   "source": [
    "def objective(space):\n",
    "    clf = XGBRegressor(\n",
    "        n_estimators=int(space['n_estimators']),\n",
    "        max_depth=int(space['max_depth']),\n",
    "        learning_rate=space['learning_rate'],\n",
    "        min_child_weight=int(space['min_child_weight']),\n",
    "        subsample=space['subsample'],\n",
    "        colsample_bytree=space['colsample_bytree'],\n",
    "        gamma=space['gamma'],\n",
    "        reg_alpha=space['reg_alpha'],\n",
    "        reg_lambda=space['reg_lambda'],\n",
    "        random_state=42\n",
    "    )\n",
    "    \n",
    "    X_train, X_test, y_train, y_test = train_test_split(X, y, test_size=0.2, random_state=42)\n",
    "    clf.fit(X_train, y_train)\n",
    "    pred = clf.predict(X_test)\n",
    "    mse = mean_squared_error(y_test, pred)\n",
    "    rmse = np.sqrt(mse)\n",
    "    return {'loss': rmse, 'status': STATUS_OK}"
   ]
  },
  {
   "cell_type": "code",
   "execution_count": 27,
   "metadata": {},
   "outputs": [
    {
     "name": "stdout",
     "output_type": "stream",
     "text": [
      "100%|██████████| 100/100 [04:37<00:00,  2.77s/trial, best loss: 0.06926134781092294]\n",
      "Best:  {'colsample_bytree': 0.8616788678625525, 'gamma': 0.05366493409793818, 'learning_rate': 0.10733791137097379, 'max_depth': 9.0, 'min_child_weight': 1.0, 'n_estimators': 450.0, 'reg_alpha': 0.645286124814892, 'reg_lambda': 0.5566129633506407, 'subsample': 0.6923914774323965}\n"
     ]
    }
   ],
   "source": [
    "trials = Trials()\n",
    "best = fmin(\n",
    "    fn=objective,\n",
    "    space=space,\n",
    "    algo=tpe.suggest,\n",
    "    max_evals=100,\n",
    "    trials=trials\n",
    ")\n",
    "\n",
    "print(\"Best: \", best)"
   ]
  },
  {
   "cell_type": "code",
   "execution_count": 28,
   "metadata": {},
   "outputs": [],
   "source": [
    "## Params from best\n",
    "\n",
    "params = {\n",
    "    'colsample_bytree': 0.8616788678625525,\n",
    "    'gamma': 0.05366493409793818,\n",
    "    'learning_rate' : 0.10733791137097379,\n",
    "    'max_depth': int(9.0),  \n",
    "    'min_child_weight': int(1.0),  \n",
    "    'n_estimators' : int(450.0),\n",
    "    'reg_alpha': 0.645286124814892,\n",
    "    'reg_lambda': 0.5566129633506407,\n",
    "    'subsample' : 0.6923914774323965\n",
    "}"
   ]
  },
  {
   "cell_type": "code",
   "execution_count": 89,
   "metadata": {},
   "outputs": [],
   "source": [
    "take_model = XGBRegressor(\n",
    "    colsample_bytree=params['colsample_bytree'],\n",
    "    gamma=params['gamma'],\n",
    "    learning_rate = params['learning_rate'],\n",
    "    max_depth=params['max_depth'],\n",
    "    min_child_weight=params['min_child_weight'],\n",
    "    reg_alpha=params['reg_alpha'],\n",
    "    reg_lambda=params['reg_lambda'],\n",
    "    subsample = params['subsample'],\n",
    "    n_estimators=250,  \n",
    "    seed=0  \n",
    ")\n",
    "\n",
    "# Fit the model with your training data\n",
    "take_model.fit(X_train, y_train)\n",
    "y_pred = take_model.predict(X_test)\n",
    "\n",
    "rmse = np.sqrt(mean_squared_error(y_test, y_pred))"
   ]
  },
  {
   "cell_type": "code",
   "execution_count": 91,
   "metadata": {},
   "outputs": [
    {
     "data": {
      "text/html": [
       "<div>\n",
       "<style scoped>\n",
       "    .dataframe tbody tr th:only-of-type {\n",
       "        vertical-align: middle;\n",
       "    }\n",
       "\n",
       "    .dataframe tbody tr th {\n",
       "        vertical-align: top;\n",
       "    }\n",
       "\n",
       "    .dataframe thead th {\n",
       "        text-align: right;\n",
       "    }\n",
       "</style>\n",
       "<table border=\"1\" class=\"dataframe\">\n",
       "  <thead>\n",
       "    <tr style=\"text-align: right;\">\n",
       "      <th></th>\n",
       "      <th>0</th>\n",
       "    </tr>\n",
       "  </thead>\n",
       "  <tbody>\n",
       "    <tr>\n",
       "      <th>count</th>\n",
       "      <td>76941.000000</td>\n",
       "    </tr>\n",
       "    <tr>\n",
       "      <th>mean</th>\n",
       "      <td>0.015326</td>\n",
       "    </tr>\n",
       "    <tr>\n",
       "      <th>std</th>\n",
       "      <td>0.066433</td>\n",
       "    </tr>\n",
       "    <tr>\n",
       "      <th>min</th>\n",
       "      <td>-0.336816</td>\n",
       "    </tr>\n",
       "    <tr>\n",
       "      <th>25%</th>\n",
       "      <td>-0.033646</td>\n",
       "    </tr>\n",
       "    <tr>\n",
       "      <th>50%</th>\n",
       "      <td>0.025675</td>\n",
       "    </tr>\n",
       "    <tr>\n",
       "      <th>75%</th>\n",
       "      <td>0.040870</td>\n",
       "    </tr>\n",
       "    <tr>\n",
       "      <th>max</th>\n",
       "      <td>0.328164</td>\n",
       "    </tr>\n",
       "  </tbody>\n",
       "</table>\n",
       "</div>"
      ],
      "text/plain": [
       "                  0\n",
       "count  76941.000000\n",
       "mean       0.015326\n",
       "std        0.066433\n",
       "min       -0.336816\n",
       "25%       -0.033646\n",
       "50%        0.025675\n",
       "75%        0.040870\n",
       "max        0.328164"
      ]
     },
     "execution_count": 91,
     "metadata": {},
     "output_type": "execute_result"
    }
   ],
   "source": [
    "preds = pd.DataFrame(y_pred)\n",
    "\n",
    "preds.describe()"
   ]
  },
  {
   "cell_type": "code",
   "execution_count": 92,
   "metadata": {},
   "outputs": [
    {
     "data": {
      "text/plain": [
       "0.06926588810946728"
      ]
     },
     "execution_count": 92,
     "metadata": {},
     "output_type": "execute_result"
    }
   ],
   "source": [
    "rmse"
   ]
  },
  {
   "cell_type": "code",
   "execution_count": 93,
   "metadata": {},
   "outputs": [
    {
     "data": {
      "text/plain": [
       "0.0963553339783335"
      ]
     },
     "execution_count": 93,
     "metadata": {},
     "output_type": "execute_result"
    }
   ],
   "source": [
    "y.std()"
   ]
  },
  {
   "cell_type": "markdown",
   "metadata": {},
   "source": [
    "### Save Model"
   ]
  },
  {
   "cell_type": "code",
   "execution_count": 94,
   "metadata": {},
   "outputs": [
    {
     "data": {
      "text/plain": [
       "['/Users/aidanbeilke/Desktop/Baseball Projects/Swing_Decision/sd_take_model.pkl']"
      ]
     },
     "execution_count": 94,
     "metadata": {},
     "output_type": "execute_result"
    }
   ],
   "source": [
    "model_path = '/Users/aidanbeilke/Desktop/Baseball Projects/Swing_Decision/sd_take_model.pkl'\n",
    "\n",
    "joblib.dump(take_model, model_path)"
   ]
  },
  {
   "cell_type": "markdown",
   "metadata": {},
   "source": [
    "### Test on 2024 Data"
   ]
  },
  {
   "cell_type": "code",
   "execution_count": 34,
   "metadata": {},
   "outputs": [
    {
     "name": "stdout",
     "output_type": "stream",
     "text": [
      "This is a large query, it may take a moment to complete\n"
     ]
    },
    {
     "name": "stderr",
     "output_type": "stream",
     "text": [
      "/Users/aidanbeilke/Desktop/Baseball Projects/.venv/lib/python3.11/site-packages/pybaseball/statcast.py:50: UserWarning: \n",
      "That's a nice request you got there. It'd be a shame if something were to happen to it.\n",
      "We strongly recommend that you enable caching before running this. It's as simple as `pybaseball.cache.enable()`.\n",
      "Since the Statcast requests can take a *really* long time to run, if something were to happen, like: a disconnect;\n",
      "gremlins; computer repair by associates of Rudy Giuliani; electromagnetic interference from metal trash cans; etc.;\n",
      "you could lose a lot of progress. Enabling caching will allow you to immediately recover all the successful\n",
      "subqueries if that happens.\n",
      "  warnings.warn(_OVERSIZE_WARNING)\n",
      "  0%|          | 0/62 [00:00<?, ?it/s]/Users/aidanbeilke/Desktop/Baseball Projects/.venv/lib/python3.11/site-packages/pybaseball/datahelpers/postprocessing.py:59: FutureWarning: errors='ignore' is deprecated and will raise in a future version. Use to_datetime without passing `errors` and catch exceptions explicitly instead\n",
      "  data_copy[column] = data_copy[column].apply(pd.to_datetime, errors='ignore', format=date_format)\n",
      "  2%|▏         | 1/62 [00:01<01:02,  1.02s/it]/Users/aidanbeilke/Desktop/Baseball Projects/.venv/lib/python3.11/site-packages/pybaseball/datahelpers/postprocessing.py:59: FutureWarning: errors='ignore' is deprecated and will raise in a future version. Use to_datetime without passing `errors` and catch exceptions explicitly instead\n",
      "  data_copy[column] = data_copy[column].apply(pd.to_datetime, errors='ignore', format=date_format)\n",
      "  3%|▎         | 2/62 [00:01<00:39,  1.53it/s]/Users/aidanbeilke/Desktop/Baseball Projects/.venv/lib/python3.11/site-packages/pybaseball/datahelpers/postprocessing.py:59: FutureWarning: errors='ignore' is deprecated and will raise in a future version. Use to_datetime without passing `errors` and catch exceptions explicitly instead\n",
      "  data_copy[column] = data_copy[column].apply(pd.to_datetime, errors='ignore', format=date_format)\n",
      "/Users/aidanbeilke/Desktop/Baseball Projects/.venv/lib/python3.11/site-packages/pybaseball/datahelpers/postprocessing.py:59: FutureWarning: errors='ignore' is deprecated and will raise in a future version. Use to_datetime without passing `errors` and catch exceptions explicitly instead\n",
      "  data_copy[column] = data_copy[column].apply(pd.to_datetime, errors='ignore', format=date_format)\n",
      "  5%|▍         | 3/62 [00:01<00:30,  1.95it/s]/Users/aidanbeilke/Desktop/Baseball Projects/.venv/lib/python3.11/site-packages/pybaseball/datahelpers/postprocessing.py:59: FutureWarning: errors='ignore' is deprecated and will raise in a future version. Use to_datetime without passing `errors` and catch exceptions explicitly instead\n",
      "  data_copy[column] = data_copy[column].apply(pd.to_datetime, errors='ignore', format=date_format)\n",
      "  8%|▊         | 5/62 [00:02<00:21,  2.68it/s]/Users/aidanbeilke/Desktop/Baseball Projects/.venv/lib/python3.11/site-packages/pybaseball/datahelpers/postprocessing.py:59: FutureWarning: errors='ignore' is deprecated and will raise in a future version. Use to_datetime without passing `errors` and catch exceptions explicitly instead\n",
      "  data_copy[column] = data_copy[column].apply(pd.to_datetime, errors='ignore', format=date_format)\n",
      " 10%|▉         | 6/62 [00:02<00:25,  2.19it/s]/Users/aidanbeilke/Desktop/Baseball Projects/.venv/lib/python3.11/site-packages/pybaseball/datahelpers/postprocessing.py:59: FutureWarning: errors='ignore' is deprecated and will raise in a future version. Use to_datetime without passing `errors` and catch exceptions explicitly instead\n",
      "  data_copy[column] = data_copy[column].apply(pd.to_datetime, errors='ignore', format=date_format)\n",
      " 11%|█▏        | 7/62 [00:03<00:28,  1.93it/s]/Users/aidanbeilke/Desktop/Baseball Projects/.venv/lib/python3.11/site-packages/pybaseball/datahelpers/postprocessing.py:59: FutureWarning: errors='ignore' is deprecated and will raise in a future version. Use to_datetime without passing `errors` and catch exceptions explicitly instead\n",
      "  data_copy[column] = data_copy[column].apply(pd.to_datetime, errors='ignore', format=date_format)\n",
      "/Users/aidanbeilke/Desktop/Baseball Projects/.venv/lib/python3.11/site-packages/pybaseball/datahelpers/postprocessing.py:59: FutureWarning: errors='ignore' is deprecated and will raise in a future version. Use to_datetime without passing `errors` and catch exceptions explicitly instead\n",
      "  data_copy[column] = data_copy[column].apply(pd.to_datetime, errors='ignore', format=date_format)\n",
      "/Users/aidanbeilke/Desktop/Baseball Projects/.venv/lib/python3.11/site-packages/pybaseball/datahelpers/postprocessing.py:59: FutureWarning: errors='ignore' is deprecated and will raise in a future version. Use to_datetime without passing `errors` and catch exceptions explicitly instead\n",
      "  data_copy[column] = data_copy[column].apply(pd.to_datetime, errors='ignore', format=date_format)\n",
      "/Users/aidanbeilke/Desktop/Baseball Projects/.venv/lib/python3.11/site-packages/pybaseball/datahelpers/postprocessing.py:59: FutureWarning: errors='ignore' is deprecated and will raise in a future version. Use to_datetime without passing `errors` and catch exceptions explicitly instead\n",
      "  data_copy[column] = data_copy[column].apply(pd.to_datetime, errors='ignore', format=date_format)\n",
      "/Users/aidanbeilke/Desktop/Baseball Projects/.venv/lib/python3.11/site-packages/pybaseball/datahelpers/postprocessing.py:59: FutureWarning: errors='ignore' is deprecated and will raise in a future version. Use to_datetime without passing `errors` and catch exceptions explicitly instead\n",
      "  data_copy[column] = data_copy[column].apply(pd.to_datetime, errors='ignore', format=date_format)\n",
      "/Users/aidanbeilke/Desktop/Baseball Projects/.venv/lib/python3.11/site-packages/pybaseball/datahelpers/postprocessing.py:59: FutureWarning: errors='ignore' is deprecated and will raise in a future version. Use to_datetime without passing `errors` and catch exceptions explicitly instead\n",
      "  data_copy[column] = data_copy[column].apply(pd.to_datetime, errors='ignore', format=date_format)\n",
      " 15%|█▍        | 9/62 [00:05<00:39,  1.34it/s]/Users/aidanbeilke/Desktop/Baseball Projects/.venv/lib/python3.11/site-packages/pybaseball/datahelpers/postprocessing.py:59: FutureWarning: errors='ignore' is deprecated and will raise in a future version. Use to_datetime without passing `errors` and catch exceptions explicitly instead\n",
      "  data_copy[column] = data_copy[column].apply(pd.to_datetime, errors='ignore', format=date_format)\n",
      "/Users/aidanbeilke/Desktop/Baseball Projects/.venv/lib/python3.11/site-packages/pybaseball/datahelpers/postprocessing.py:59: FutureWarning: errors='ignore' is deprecated and will raise in a future version. Use to_datetime without passing `errors` and catch exceptions explicitly instead\n",
      "  data_copy[column] = data_copy[column].apply(pd.to_datetime, errors='ignore', format=date_format)\n",
      " 16%|█▌        | 10/62 [00:06<00:32,  1.58it/s]/Users/aidanbeilke/Desktop/Baseball Projects/.venv/lib/python3.11/site-packages/pybaseball/datahelpers/postprocessing.py:59: FutureWarning: errors='ignore' is deprecated and will raise in a future version. Use to_datetime without passing `errors` and catch exceptions explicitly instead\n",
      "  data_copy[column] = data_copy[column].apply(pd.to_datetime, errors='ignore', format=date_format)\n",
      " 21%|██        | 13/62 [00:06<00:19,  2.56it/s]/Users/aidanbeilke/Desktop/Baseball Projects/.venv/lib/python3.11/site-packages/pybaseball/datahelpers/postprocessing.py:59: FutureWarning: errors='ignore' is deprecated and will raise in a future version. Use to_datetime without passing `errors` and catch exceptions explicitly instead\n",
      "  data_copy[column] = data_copy[column].apply(pd.to_datetime, errors='ignore', format=date_format)\n",
      " 23%|██▎       | 14/62 [00:07<00:18,  2.65it/s]/Users/aidanbeilke/Desktop/Baseball Projects/.venv/lib/python3.11/site-packages/pybaseball/datahelpers/postprocessing.py:59: FutureWarning: errors='ignore' is deprecated and will raise in a future version. Use to_datetime without passing `errors` and catch exceptions explicitly instead\n",
      "  data_copy[column] = data_copy[column].apply(pd.to_datetime, errors='ignore', format=date_format)\n",
      " 24%|██▍       | 15/62 [00:07<00:16,  2.92it/s]/Users/aidanbeilke/Desktop/Baseball Projects/.venv/lib/python3.11/site-packages/pybaseball/datahelpers/postprocessing.py:59: FutureWarning: errors='ignore' is deprecated and will raise in a future version. Use to_datetime without passing `errors` and catch exceptions explicitly instead\n",
      "  data_copy[column] = data_copy[column].apply(pd.to_datetime, errors='ignore', format=date_format)\n",
      " 26%|██▌       | 16/62 [00:07<00:17,  2.65it/s]/Users/aidanbeilke/Desktop/Baseball Projects/.venv/lib/python3.11/site-packages/pybaseball/datahelpers/postprocessing.py:59: FutureWarning: errors='ignore' is deprecated and will raise in a future version. Use to_datetime without passing `errors` and catch exceptions explicitly instead\n",
      "  data_copy[column] = data_copy[column].apply(pd.to_datetime, errors='ignore', format=date_format)\n",
      " 27%|██▋       | 17/62 [00:08<00:16,  2.66it/s]/Users/aidanbeilke/Desktop/Baseball Projects/.venv/lib/python3.11/site-packages/pybaseball/datahelpers/postprocessing.py:59: FutureWarning: errors='ignore' is deprecated and will raise in a future version. Use to_datetime without passing `errors` and catch exceptions explicitly instead\n",
      "  data_copy[column] = data_copy[column].apply(pd.to_datetime, errors='ignore', format=date_format)\n",
      "/Users/aidanbeilke/Desktop/Baseball Projects/.venv/lib/python3.11/site-packages/pybaseball/datahelpers/postprocessing.py:59: FutureWarning: errors='ignore' is deprecated and will raise in a future version. Use to_datetime without passing `errors` and catch exceptions explicitly instead\n",
      "  data_copy[column] = data_copy[column].apply(pd.to_datetime, errors='ignore', format=date_format)\n",
      " 29%|██▉       | 18/62 [00:08<00:16,  2.63it/s]/Users/aidanbeilke/Desktop/Baseball Projects/.venv/lib/python3.11/site-packages/pybaseball/datahelpers/postprocessing.py:59: FutureWarning: errors='ignore' is deprecated and will raise in a future version. Use to_datetime without passing `errors` and catch exceptions explicitly instead\n",
      "  data_copy[column] = data_copy[column].apply(pd.to_datetime, errors='ignore', format=date_format)\n",
      " 31%|███       | 19/62 [00:09<00:16,  2.68it/s]/Users/aidanbeilke/Desktop/Baseball Projects/.venv/lib/python3.11/site-packages/pybaseball/datahelpers/postprocessing.py:59: FutureWarning: errors='ignore' is deprecated and will raise in a future version. Use to_datetime without passing `errors` and catch exceptions explicitly instead\n",
      "  data_copy[column] = data_copy[column].apply(pd.to_datetime, errors='ignore', format=date_format)\n",
      " 32%|███▏      | 20/62 [00:09<00:14,  2.95it/s]/Users/aidanbeilke/Desktop/Baseball Projects/.venv/lib/python3.11/site-packages/pybaseball/datahelpers/postprocessing.py:59: FutureWarning: errors='ignore' is deprecated and will raise in a future version. Use to_datetime without passing `errors` and catch exceptions explicitly instead\n",
      "  data_copy[column] = data_copy[column].apply(pd.to_datetime, errors='ignore', format=date_format)\n",
      " 34%|███▍      | 21/62 [00:09<00:14,  2.90it/s]/Users/aidanbeilke/Desktop/Baseball Projects/.venv/lib/python3.11/site-packages/pybaseball/datahelpers/postprocessing.py:59: FutureWarning: errors='ignore' is deprecated and will raise in a future version. Use to_datetime without passing `errors` and catch exceptions explicitly instead\n",
      "  data_copy[column] = data_copy[column].apply(pd.to_datetime, errors='ignore', format=date_format)\n",
      " 35%|███▌      | 22/62 [00:10<00:13,  2.87it/s]/Users/aidanbeilke/Desktop/Baseball Projects/.venv/lib/python3.11/site-packages/pybaseball/datahelpers/postprocessing.py:59: FutureWarning: errors='ignore' is deprecated and will raise in a future version. Use to_datetime without passing `errors` and catch exceptions explicitly instead\n",
      "  data_copy[column] = data_copy[column].apply(pd.to_datetime, errors='ignore', format=date_format)\n",
      "/Users/aidanbeilke/Desktop/Baseball Projects/.venv/lib/python3.11/site-packages/pybaseball/datahelpers/postprocessing.py:59: FutureWarning: errors='ignore' is deprecated and will raise in a future version. Use to_datetime without passing `errors` and catch exceptions explicitly instead\n",
      "  data_copy[column] = data_copy[column].apply(pd.to_datetime, errors='ignore', format=date_format)\n",
      "/Users/aidanbeilke/Desktop/Baseball Projects/.venv/lib/python3.11/site-packages/pybaseball/datahelpers/postprocessing.py:59: FutureWarning: errors='ignore' is deprecated and will raise in a future version. Use to_datetime without passing `errors` and catch exceptions explicitly instead\n",
      "  data_copy[column] = data_copy[column].apply(pd.to_datetime, errors='ignore', format=date_format)\n",
      " 37%|███▋      | 23/62 [00:10<00:14,  2.61it/s]/Users/aidanbeilke/Desktop/Baseball Projects/.venv/lib/python3.11/site-packages/pybaseball/datahelpers/postprocessing.py:59: FutureWarning: errors='ignore' is deprecated and will raise in a future version. Use to_datetime without passing `errors` and catch exceptions explicitly instead\n",
      "  data_copy[column] = data_copy[column].apply(pd.to_datetime, errors='ignore', format=date_format)\n",
      " 40%|████      | 25/62 [00:11<00:12,  2.94it/s]/Users/aidanbeilke/Desktop/Baseball Projects/.venv/lib/python3.11/site-packages/pybaseball/datahelpers/postprocessing.py:59: FutureWarning: errors='ignore' is deprecated and will raise in a future version. Use to_datetime without passing `errors` and catch exceptions explicitly instead\n",
      "  data_copy[column] = data_copy[column].apply(pd.to_datetime, errors='ignore', format=date_format)\n",
      "/Users/aidanbeilke/Desktop/Baseball Projects/.venv/lib/python3.11/site-packages/pybaseball/datahelpers/postprocessing.py:59: FutureWarning: errors='ignore' is deprecated and will raise in a future version. Use to_datetime without passing `errors` and catch exceptions explicitly instead\n",
      "  data_copy[column] = data_copy[column].apply(pd.to_datetime, errors='ignore', format=date_format)\n",
      "/Users/aidanbeilke/Desktop/Baseball Projects/.venv/lib/python3.11/site-packages/pybaseball/datahelpers/postprocessing.py:59: FutureWarning: errors='ignore' is deprecated and will raise in a future version. Use to_datetime without passing `errors` and catch exceptions explicitly instead\n",
      "  data_copy[column] = data_copy[column].apply(pd.to_datetime, errors='ignore', format=date_format)\n",
      "/Users/aidanbeilke/Desktop/Baseball Projects/.venv/lib/python3.11/site-packages/pybaseball/datahelpers/postprocessing.py:59: FutureWarning: errors='ignore' is deprecated and will raise in a future version. Use to_datetime without passing `errors` and catch exceptions explicitly instead\n",
      "  data_copy[column] = data_copy[column].apply(pd.to_datetime, errors='ignore', format=date_format)\n",
      " 42%|████▏     | 26/62 [00:11<00:14,  2.50it/s]/Users/aidanbeilke/Desktop/Baseball Projects/.venv/lib/python3.11/site-packages/pybaseball/datahelpers/postprocessing.py:59: FutureWarning: errors='ignore' is deprecated and will raise in a future version. Use to_datetime without passing `errors` and catch exceptions explicitly instead\n",
      "  data_copy[column] = data_copy[column].apply(pd.to_datetime, errors='ignore', format=date_format)\n",
      "/Users/aidanbeilke/Desktop/Baseball Projects/.venv/lib/python3.11/site-packages/pybaseball/datahelpers/postprocessing.py:59: FutureWarning: errors='ignore' is deprecated and will raise in a future version. Use to_datetime without passing `errors` and catch exceptions explicitly instead\n",
      "  data_copy[column] = data_copy[column].apply(pd.to_datetime, errors='ignore', format=date_format)\n",
      " 45%|████▌     | 28/62 [00:11<00:10,  3.27it/s]/Users/aidanbeilke/Desktop/Baseball Projects/.venv/lib/python3.11/site-packages/pybaseball/datahelpers/postprocessing.py:59: FutureWarning: errors='ignore' is deprecated and will raise in a future version. Use to_datetime without passing `errors` and catch exceptions explicitly instead\n",
      "  data_copy[column] = data_copy[column].apply(pd.to_datetime, errors='ignore', format=date_format)\n",
      " 47%|████▋     | 29/62 [00:12<00:10,  3.04it/s]/Users/aidanbeilke/Desktop/Baseball Projects/.venv/lib/python3.11/site-packages/pybaseball/datahelpers/postprocessing.py:59: FutureWarning: errors='ignore' is deprecated and will raise in a future version. Use to_datetime without passing `errors` and catch exceptions explicitly instead\n",
      "  data_copy[column] = data_copy[column].apply(pd.to_datetime, errors='ignore', format=date_format)\n",
      " 48%|████▊     | 30/62 [00:12<00:11,  2.83it/s]/Users/aidanbeilke/Desktop/Baseball Projects/.venv/lib/python3.11/site-packages/pybaseball/datahelpers/postprocessing.py:59: FutureWarning: errors='ignore' is deprecated and will raise in a future version. Use to_datetime without passing `errors` and catch exceptions explicitly instead\n",
      "  data_copy[column] = data_copy[column].apply(pd.to_datetime, errors='ignore', format=date_format)\n",
      "/Users/aidanbeilke/Desktop/Baseball Projects/.venv/lib/python3.11/site-packages/pybaseball/datahelpers/postprocessing.py:59: FutureWarning: errors='ignore' is deprecated and will raise in a future version. Use to_datetime without passing `errors` and catch exceptions explicitly instead\n",
      "  data_copy[column] = data_copy[column].apply(pd.to_datetime, errors='ignore', format=date_format)\n",
      "/Users/aidanbeilke/Desktop/Baseball Projects/.venv/lib/python3.11/site-packages/pybaseball/datahelpers/postprocessing.py:59: FutureWarning: errors='ignore' is deprecated and will raise in a future version. Use to_datetime without passing `errors` and catch exceptions explicitly instead\n",
      "  data_copy[column] = data_copy[column].apply(pd.to_datetime, errors='ignore', format=date_format)\n",
      "/Users/aidanbeilke/Desktop/Baseball Projects/.venv/lib/python3.11/site-packages/pybaseball/datahelpers/postprocessing.py:59: FutureWarning: errors='ignore' is deprecated and will raise in a future version. Use to_datetime without passing `errors` and catch exceptions explicitly instead\n",
      "  data_copy[column] = data_copy[column].apply(pd.to_datetime, errors='ignore', format=date_format)\n",
      "/Users/aidanbeilke/Desktop/Baseball Projects/.venv/lib/python3.11/site-packages/pybaseball/datahelpers/postprocessing.py:59: FutureWarning: errors='ignore' is deprecated and will raise in a future version. Use to_datetime without passing `errors` and catch exceptions explicitly instead\n",
      "  data_copy[column] = data_copy[column].apply(pd.to_datetime, errors='ignore', format=date_format)\n",
      "/Users/aidanbeilke/Desktop/Baseball Projects/.venv/lib/python3.11/site-packages/pybaseball/datahelpers/postprocessing.py:59: FutureWarning: errors='ignore' is deprecated and will raise in a future version. Use to_datetime without passing `errors` and catch exceptions explicitly instead\n",
      "  data_copy[column] = data_copy[column].apply(pd.to_datetime, errors='ignore', format=date_format)\n",
      "/Users/aidanbeilke/Desktop/Baseball Projects/.venv/lib/python3.11/site-packages/pybaseball/datahelpers/postprocessing.py:59: FutureWarning: errors='ignore' is deprecated and will raise in a future version. Use to_datetime without passing `errors` and catch exceptions explicitly instead\n",
      "  data_copy[column] = data_copy[column].apply(pd.to_datetime, errors='ignore', format=date_format)\n",
      "/Users/aidanbeilke/Desktop/Baseball Projects/.venv/lib/python3.11/site-packages/pybaseball/datahelpers/postprocessing.py:59: FutureWarning: errors='ignore' is deprecated and will raise in a future version. Use to_datetime without passing `errors` and catch exceptions explicitly instead\n",
      "  data_copy[column] = data_copy[column].apply(pd.to_datetime, errors='ignore', format=date_format)\n",
      " 52%|█████▏    | 32/62 [00:14<00:15,  1.92it/s]/Users/aidanbeilke/Desktop/Baseball Projects/.venv/lib/python3.11/site-packages/pybaseball/datahelpers/postprocessing.py:59: FutureWarning: errors='ignore' is deprecated and will raise in a future version. Use to_datetime without passing `errors` and catch exceptions explicitly instead\n",
      "  data_copy[column] = data_copy[column].apply(pd.to_datetime, errors='ignore', format=date_format)\n",
      "/Users/aidanbeilke/Desktop/Baseball Projects/.venv/lib/python3.11/site-packages/pybaseball/datahelpers/postprocessing.py:59: FutureWarning: errors='ignore' is deprecated and will raise in a future version. Use to_datetime without passing `errors` and catch exceptions explicitly instead\n",
      "  data_copy[column] = data_copy[column].apply(pd.to_datetime, errors='ignore', format=date_format)\n",
      " 55%|█████▍    | 34/62 [00:14<00:09,  3.02it/s]/Users/aidanbeilke/Desktop/Baseball Projects/.venv/lib/python3.11/site-packages/pybaseball/datahelpers/postprocessing.py:59: FutureWarning: errors='ignore' is deprecated and will raise in a future version. Use to_datetime without passing `errors` and catch exceptions explicitly instead\n",
      "  data_copy[column] = data_copy[column].apply(pd.to_datetime, errors='ignore', format=date_format)\n",
      "/Users/aidanbeilke/Desktop/Baseball Projects/.venv/lib/python3.11/site-packages/pybaseball/datahelpers/postprocessing.py:59: FutureWarning: errors='ignore' is deprecated and will raise in a future version. Use to_datetime without passing `errors` and catch exceptions explicitly instead\n",
      "  data_copy[column] = data_copy[column].apply(pd.to_datetime, errors='ignore', format=date_format)\n",
      "/Users/aidanbeilke/Desktop/Baseball Projects/.venv/lib/python3.11/site-packages/pybaseball/datahelpers/postprocessing.py:59: FutureWarning: errors='ignore' is deprecated and will raise in a future version. Use to_datetime without passing `errors` and catch exceptions explicitly instead\n",
      "  data_copy[column] = data_copy[column].apply(pd.to_datetime, errors='ignore', format=date_format)\n",
      "/Users/aidanbeilke/Desktop/Baseball Projects/.venv/lib/python3.11/site-packages/pybaseball/datahelpers/postprocessing.py:59: FutureWarning: errors='ignore' is deprecated and will raise in a future version. Use to_datetime without passing `errors` and catch exceptions explicitly instead\n",
      "  data_copy[column] = data_copy[column].apply(pd.to_datetime, errors='ignore', format=date_format)\n",
      " 58%|█████▊    | 36/62 [00:14<00:06,  3.96it/s]/Users/aidanbeilke/Desktop/Baseball Projects/.venv/lib/python3.11/site-packages/pybaseball/datahelpers/postprocessing.py:59: FutureWarning: errors='ignore' is deprecated and will raise in a future version. Use to_datetime without passing `errors` and catch exceptions explicitly instead\n",
      "  data_copy[column] = data_copy[column].apply(pd.to_datetime, errors='ignore', format=date_format)\n",
      "/Users/aidanbeilke/Desktop/Baseball Projects/.venv/lib/python3.11/site-packages/pybaseball/datahelpers/postprocessing.py:59: FutureWarning: errors='ignore' is deprecated and will raise in a future version. Use to_datetime without passing `errors` and catch exceptions explicitly instead\n",
      "  data_copy[column] = data_copy[column].apply(pd.to_datetime, errors='ignore', format=date_format)\n",
      "/Users/aidanbeilke/Desktop/Baseball Projects/.venv/lib/python3.11/site-packages/pybaseball/datahelpers/postprocessing.py:59: FutureWarning: errors='ignore' is deprecated and will raise in a future version. Use to_datetime without passing `errors` and catch exceptions explicitly instead\n",
      "  data_copy[column] = data_copy[column].apply(pd.to_datetime, errors='ignore', format=date_format)\n",
      " 61%|██████▏   | 38/62 [00:15<00:05,  4.70it/s]/Users/aidanbeilke/Desktop/Baseball Projects/.venv/lib/python3.11/site-packages/pybaseball/datahelpers/postprocessing.py:59: FutureWarning: errors='ignore' is deprecated and will raise in a future version. Use to_datetime without passing `errors` and catch exceptions explicitly instead\n",
      "  data_copy[column] = data_copy[column].apply(pd.to_datetime, errors='ignore', format=date_format)\n",
      "/Users/aidanbeilke/Desktop/Baseball Projects/.venv/lib/python3.11/site-packages/pybaseball/datahelpers/postprocessing.py:59: FutureWarning: errors='ignore' is deprecated and will raise in a future version. Use to_datetime without passing `errors` and catch exceptions explicitly instead\n",
      "  data_copy[column] = data_copy[column].apply(pd.to_datetime, errors='ignore', format=date_format)\n",
      "/Users/aidanbeilke/Desktop/Baseball Projects/.venv/lib/python3.11/site-packages/pybaseball/datahelpers/postprocessing.py:59: FutureWarning: errors='ignore' is deprecated and will raise in a future version. Use to_datetime without passing `errors` and catch exceptions explicitly instead\n",
      "  data_copy[column] = data_copy[column].apply(pd.to_datetime, errors='ignore', format=date_format)\n",
      "/Users/aidanbeilke/Desktop/Baseball Projects/.venv/lib/python3.11/site-packages/pybaseball/datahelpers/postprocessing.py:59: FutureWarning: errors='ignore' is deprecated and will raise in a future version. Use to_datetime without passing `errors` and catch exceptions explicitly instead\n",
      "  data_copy[column] = data_copy[column].apply(pd.to_datetime, errors='ignore', format=date_format)\n",
      "/Users/aidanbeilke/Desktop/Baseball Projects/.venv/lib/python3.11/site-packages/pybaseball/datahelpers/postprocessing.py:59: FutureWarning: errors='ignore' is deprecated and will raise in a future version. Use to_datetime without passing `errors` and catch exceptions explicitly instead\n",
      "  data_copy[column] = data_copy[column].apply(pd.to_datetime, errors='ignore', format=date_format)\n",
      "/Users/aidanbeilke/Desktop/Baseball Projects/.venv/lib/python3.11/site-packages/pybaseball/datahelpers/postprocessing.py:59: FutureWarning: errors='ignore' is deprecated and will raise in a future version. Use to_datetime without passing `errors` and catch exceptions explicitly instead\n",
      "  data_copy[column] = data_copy[column].apply(pd.to_datetime, errors='ignore', format=date_format)\n",
      " 63%|██████▎   | 39/62 [00:15<00:06,  3.53it/s]/Users/aidanbeilke/Desktop/Baseball Projects/.venv/lib/python3.11/site-packages/pybaseball/datahelpers/postprocessing.py:59: FutureWarning: errors='ignore' is deprecated and will raise in a future version. Use to_datetime without passing `errors` and catch exceptions explicitly instead\n",
      "  data_copy[column] = data_copy[column].apply(pd.to_datetime, errors='ignore', format=date_format)\n",
      "/Users/aidanbeilke/Desktop/Baseball Projects/.venv/lib/python3.11/site-packages/pybaseball/datahelpers/postprocessing.py:59: FutureWarning: errors='ignore' is deprecated and will raise in a future version. Use to_datetime without passing `errors` and catch exceptions explicitly instead\n",
      "  data_copy[column] = data_copy[column].apply(pd.to_datetime, errors='ignore', format=date_format)\n",
      "/Users/aidanbeilke/Desktop/Baseball Projects/.venv/lib/python3.11/site-packages/pybaseball/datahelpers/postprocessing.py:59: FutureWarning: errors='ignore' is deprecated and will raise in a future version. Use to_datetime without passing `errors` and catch exceptions explicitly instead\n",
      "  data_copy[column] = data_copy[column].apply(pd.to_datetime, errors='ignore', format=date_format)\n",
      "/Users/aidanbeilke/Desktop/Baseball Projects/.venv/lib/python3.11/site-packages/pybaseball/datahelpers/postprocessing.py:59: FutureWarning: errors='ignore' is deprecated and will raise in a future version. Use to_datetime without passing `errors` and catch exceptions explicitly instead\n",
      "  data_copy[column] = data_copy[column].apply(pd.to_datetime, errors='ignore', format=date_format)\n",
      " 66%|██████▌   | 41/62 [00:15<00:05,  4.18it/s]/Users/aidanbeilke/Desktop/Baseball Projects/.venv/lib/python3.11/site-packages/pybaseball/datahelpers/postprocessing.py:59: FutureWarning: errors='ignore' is deprecated and will raise in a future version. Use to_datetime without passing `errors` and catch exceptions explicitly instead\n",
      "  data_copy[column] = data_copy[column].apply(pd.to_datetime, errors='ignore', format=date_format)\n",
      "/Users/aidanbeilke/Desktop/Baseball Projects/.venv/lib/python3.11/site-packages/pybaseball/datahelpers/postprocessing.py:59: FutureWarning: errors='ignore' is deprecated and will raise in a future version. Use to_datetime without passing `errors` and catch exceptions explicitly instead\n",
      "  data_copy[column] = data_copy[column].apply(pd.to_datetime, errors='ignore', format=date_format)\n",
      "/Users/aidanbeilke/Desktop/Baseball Projects/.venv/lib/python3.11/site-packages/pybaseball/datahelpers/postprocessing.py:59: FutureWarning: errors='ignore' is deprecated and will raise in a future version. Use to_datetime without passing `errors` and catch exceptions explicitly instead\n",
      "  data_copy[column] = data_copy[column].apply(pd.to_datetime, errors='ignore', format=date_format)\n",
      "/Users/aidanbeilke/Desktop/Baseball Projects/.venv/lib/python3.11/site-packages/pybaseball/datahelpers/postprocessing.py:59: FutureWarning: errors='ignore' is deprecated and will raise in a future version. Use to_datetime without passing `errors` and catch exceptions explicitly instead\n",
      "  data_copy[column] = data_copy[column].apply(pd.to_datetime, errors='ignore', format=date_format)\n",
      "/Users/aidanbeilke/Desktop/Baseball Projects/.venv/lib/python3.11/site-packages/pybaseball/datahelpers/postprocessing.py:59: FutureWarning: errors='ignore' is deprecated and will raise in a future version. Use to_datetime without passing `errors` and catch exceptions explicitly instead\n",
      "  data_copy[column] = data_copy[column].apply(pd.to_datetime, errors='ignore', format=date_format)\n",
      " 68%|██████▊   | 42/62 [00:16<00:04,  4.47it/s]/Users/aidanbeilke/Desktop/Baseball Projects/.venv/lib/python3.11/site-packages/pybaseball/datahelpers/postprocessing.py:59: FutureWarning: errors='ignore' is deprecated and will raise in a future version. Use to_datetime without passing `errors` and catch exceptions explicitly instead\n",
      "  data_copy[column] = data_copy[column].apply(pd.to_datetime, errors='ignore', format=date_format)\n",
      "/Users/aidanbeilke/Desktop/Baseball Projects/.venv/lib/python3.11/site-packages/pybaseball/datahelpers/postprocessing.py:59: FutureWarning: errors='ignore' is deprecated and will raise in a future version. Use to_datetime without passing `errors` and catch exceptions explicitly instead\n",
      "  data_copy[column] = data_copy[column].apply(pd.to_datetime, errors='ignore', format=date_format)\n",
      "/Users/aidanbeilke/Desktop/Baseball Projects/.venv/lib/python3.11/site-packages/pybaseball/datahelpers/postprocessing.py:59: FutureWarning: errors='ignore' is deprecated and will raise in a future version. Use to_datetime without passing `errors` and catch exceptions explicitly instead\n",
      "  data_copy[column] = data_copy[column].apply(pd.to_datetime, errors='ignore', format=date_format)\n",
      " 69%|██████▉   | 43/62 [00:16<00:04,  4.12it/s]/Users/aidanbeilke/Desktop/Baseball Projects/.venv/lib/python3.11/site-packages/pybaseball/datahelpers/postprocessing.py:59: FutureWarning: errors='ignore' is deprecated and will raise in a future version. Use to_datetime without passing `errors` and catch exceptions explicitly instead\n",
      "  data_copy[column] = data_copy[column].apply(pd.to_datetime, errors='ignore', format=date_format)\n",
      "/Users/aidanbeilke/Desktop/Baseball Projects/.venv/lib/python3.11/site-packages/pybaseball/datahelpers/postprocessing.py:59: FutureWarning: errors='ignore' is deprecated and will raise in a future version. Use to_datetime without passing `errors` and catch exceptions explicitly instead\n",
      "  data_copy[column] = data_copy[column].apply(pd.to_datetime, errors='ignore', format=date_format)\n",
      "/Users/aidanbeilke/Desktop/Baseball Projects/.venv/lib/python3.11/site-packages/pybaseball/datahelpers/postprocessing.py:59: FutureWarning: errors='ignore' is deprecated and will raise in a future version. Use to_datetime without passing `errors` and catch exceptions explicitly instead\n",
      "  data_copy[column] = data_copy[column].apply(pd.to_datetime, errors='ignore', format=date_format)\n",
      "/Users/aidanbeilke/Desktop/Baseball Projects/.venv/lib/python3.11/site-packages/pybaseball/datahelpers/postprocessing.py:59: FutureWarning: errors='ignore' is deprecated and will raise in a future version. Use to_datetime without passing `errors` and catch exceptions explicitly instead\n",
      "  data_copy[column] = data_copy[column].apply(pd.to_datetime, errors='ignore', format=date_format)\n",
      "/Users/aidanbeilke/Desktop/Baseball Projects/.venv/lib/python3.11/site-packages/pybaseball/datahelpers/postprocessing.py:59: FutureWarning: errors='ignore' is deprecated and will raise in a future version. Use to_datetime without passing `errors` and catch exceptions explicitly instead\n",
      "  data_copy[column] = data_copy[column].apply(pd.to_datetime, errors='ignore', format=date_format)\n",
      "/Users/aidanbeilke/Desktop/Baseball Projects/.venv/lib/python3.11/site-packages/pybaseball/datahelpers/postprocessing.py:59: FutureWarning: errors='ignore' is deprecated and will raise in a future version. Use to_datetime without passing `errors` and catch exceptions explicitly instead\n",
      "  data_copy[column] = data_copy[column].apply(pd.to_datetime, errors='ignore', format=date_format)\n",
      "/Users/aidanbeilke/Desktop/Baseball Projects/.venv/lib/python3.11/site-packages/pybaseball/datahelpers/postprocessing.py:59: FutureWarning: errors='ignore' is deprecated and will raise in a future version. Use to_datetime without passing `errors` and catch exceptions explicitly instead\n",
      "  data_copy[column] = data_copy[column].apply(pd.to_datetime, errors='ignore', format=date_format)\n",
      " 76%|███████▌  | 47/62 [00:16<00:02,  7.33it/s]/Users/aidanbeilke/Desktop/Baseball Projects/.venv/lib/python3.11/site-packages/pybaseball/datahelpers/postprocessing.py:59: FutureWarning: errors='ignore' is deprecated and will raise in a future version. Use to_datetime without passing `errors` and catch exceptions explicitly instead\n",
      "  data_copy[column] = data_copy[column].apply(pd.to_datetime, errors='ignore', format=date_format)\n",
      "/Users/aidanbeilke/Desktop/Baseball Projects/.venv/lib/python3.11/site-packages/pybaseball/datahelpers/postprocessing.py:59: FutureWarning: errors='ignore' is deprecated and will raise in a future version. Use to_datetime without passing `errors` and catch exceptions explicitly instead\n",
      "  data_copy[column] = data_copy[column].apply(pd.to_datetime, errors='ignore', format=date_format)\n",
      "/Users/aidanbeilke/Desktop/Baseball Projects/.venv/lib/python3.11/site-packages/pybaseball/datahelpers/postprocessing.py:59: FutureWarning: errors='ignore' is deprecated and will raise in a future version. Use to_datetime without passing `errors` and catch exceptions explicitly instead\n",
      "  data_copy[column] = data_copy[column].apply(pd.to_datetime, errors='ignore', format=date_format)\n",
      "/Users/aidanbeilke/Desktop/Baseball Projects/.venv/lib/python3.11/site-packages/pybaseball/datahelpers/postprocessing.py:59: FutureWarning: errors='ignore' is deprecated and will raise in a future version. Use to_datetime without passing `errors` and catch exceptions explicitly instead\n",
      "  data_copy[column] = data_copy[column].apply(pd.to_datetime, errors='ignore', format=date_format)\n",
      " 77%|███████▋  | 48/62 [00:16<00:01,  7.48it/s]/Users/aidanbeilke/Desktop/Baseball Projects/.venv/lib/python3.11/site-packages/pybaseball/datahelpers/postprocessing.py:59: FutureWarning: errors='ignore' is deprecated and will raise in a future version. Use to_datetime without passing `errors` and catch exceptions explicitly instead\n",
      "  data_copy[column] = data_copy[column].apply(pd.to_datetime, errors='ignore', format=date_format)\n",
      "/Users/aidanbeilke/Desktop/Baseball Projects/.venv/lib/python3.11/site-packages/pybaseball/datahelpers/postprocessing.py:59: FutureWarning: errors='ignore' is deprecated and will raise in a future version. Use to_datetime without passing `errors` and catch exceptions explicitly instead\n",
      "  data_copy[column] = data_copy[column].apply(pd.to_datetime, errors='ignore', format=date_format)\n",
      " 81%|████████  | 50/62 [00:16<00:01,  9.13it/s]/Users/aidanbeilke/Desktop/Baseball Projects/.venv/lib/python3.11/site-packages/pybaseball/datahelpers/postprocessing.py:59: FutureWarning: errors='ignore' is deprecated and will raise in a future version. Use to_datetime without passing `errors` and catch exceptions explicitly instead\n",
      "  data_copy[column] = data_copy[column].apply(pd.to_datetime, errors='ignore', format=date_format)\n",
      "/Users/aidanbeilke/Desktop/Baseball Projects/.venv/lib/python3.11/site-packages/pybaseball/datahelpers/postprocessing.py:59: FutureWarning: errors='ignore' is deprecated and will raise in a future version. Use to_datetime without passing `errors` and catch exceptions explicitly instead\n",
      "  data_copy[column] = data_copy[column].apply(pd.to_datetime, errors='ignore', format=date_format)\n",
      "/Users/aidanbeilke/Desktop/Baseball Projects/.venv/lib/python3.11/site-packages/pybaseball/datahelpers/postprocessing.py:59: FutureWarning: errors='ignore' is deprecated and will raise in a future version. Use to_datetime without passing `errors` and catch exceptions explicitly instead\n",
      "  data_copy[column] = data_copy[column].apply(pd.to_datetime, errors='ignore', format=date_format)\n",
      "/Users/aidanbeilke/Desktop/Baseball Projects/.venv/lib/python3.11/site-packages/pybaseball/datahelpers/postprocessing.py:59: FutureWarning: errors='ignore' is deprecated and will raise in a future version. Use to_datetime without passing `errors` and catch exceptions explicitly instead\n",
      "  data_copy[column] = data_copy[column].apply(pd.to_datetime, errors='ignore', format=date_format)\n",
      "/Users/aidanbeilke/Desktop/Baseball Projects/.venv/lib/python3.11/site-packages/pybaseball/datahelpers/postprocessing.py:59: FutureWarning: errors='ignore' is deprecated and will raise in a future version. Use to_datetime without passing `errors` and catch exceptions explicitly instead\n",
      "  data_copy[column] = data_copy[column].apply(pd.to_datetime, errors='ignore', format=date_format)\n",
      "/Users/aidanbeilke/Desktop/Baseball Projects/.venv/lib/python3.11/site-packages/pybaseball/datahelpers/postprocessing.py:59: FutureWarning: errors='ignore' is deprecated and will raise in a future version. Use to_datetime without passing `errors` and catch exceptions explicitly instead\n",
      "  data_copy[column] = data_copy[column].apply(pd.to_datetime, errors='ignore', format=date_format)\n",
      "/Users/aidanbeilke/Desktop/Baseball Projects/.venv/lib/python3.11/site-packages/pybaseball/datahelpers/postprocessing.py:59: FutureWarning: errors='ignore' is deprecated and will raise in a future version. Use to_datetime without passing `errors` and catch exceptions explicitly instead\n",
      "  data_copy[column] = data_copy[column].apply(pd.to_datetime, errors='ignore', format=date_format)\n",
      "/Users/aidanbeilke/Desktop/Baseball Projects/.venv/lib/python3.11/site-packages/pybaseball/datahelpers/postprocessing.py:59: FutureWarning: errors='ignore' is deprecated and will raise in a future version. Use to_datetime without passing `errors` and catch exceptions explicitly instead\n",
      "  data_copy[column] = data_copy[column].apply(pd.to_datetime, errors='ignore', format=date_format)\n",
      "/Users/aidanbeilke/Desktop/Baseball Projects/.venv/lib/python3.11/site-packages/pybaseball/datahelpers/postprocessing.py:59: FutureWarning: errors='ignore' is deprecated and will raise in a future version. Use to_datetime without passing `errors` and catch exceptions explicitly instead\n",
      "  data_copy[column] = data_copy[column].apply(pd.to_datetime, errors='ignore', format=date_format)\n",
      "/Users/aidanbeilke/Desktop/Baseball Projects/.venv/lib/python3.11/site-packages/pybaseball/datahelpers/postprocessing.py:59: FutureWarning: errors='ignore' is deprecated and will raise in a future version. Use to_datetime without passing `errors` and catch exceptions explicitly instead\n",
      "  data_copy[column] = data_copy[column].apply(pd.to_datetime, errors='ignore', format=date_format)\n",
      " 85%|████████▌ | 53/62 [00:17<00:00, 10.84it/s]/Users/aidanbeilke/Desktop/Baseball Projects/.venv/lib/python3.11/site-packages/pybaseball/datahelpers/postprocessing.py:59: FutureWarning: errors='ignore' is deprecated and will raise in a future version. Use to_datetime without passing `errors` and catch exceptions explicitly instead\n",
      "  data_copy[column] = data_copy[column].apply(pd.to_datetime, errors='ignore', format=date_format)\n",
      "/Users/aidanbeilke/Desktop/Baseball Projects/.venv/lib/python3.11/site-packages/pybaseball/datahelpers/postprocessing.py:59: FutureWarning: errors='ignore' is deprecated and will raise in a future version. Use to_datetime without passing `errors` and catch exceptions explicitly instead\n",
      "  data_copy[column] = data_copy[column].apply(pd.to_datetime, errors='ignore', format=date_format)\n",
      "/Users/aidanbeilke/Desktop/Baseball Projects/.venv/lib/python3.11/site-packages/pybaseball/datahelpers/postprocessing.py:59: FutureWarning: errors='ignore' is deprecated and will raise in a future version. Use to_datetime without passing `errors` and catch exceptions explicitly instead\n",
      "  data_copy[column] = data_copy[column].apply(pd.to_datetime, errors='ignore', format=date_format)\n",
      "/Users/aidanbeilke/Desktop/Baseball Projects/.venv/lib/python3.11/site-packages/pybaseball/datahelpers/postprocessing.py:59: FutureWarning: errors='ignore' is deprecated and will raise in a future version. Use to_datetime without passing `errors` and catch exceptions explicitly instead\n",
      "  data_copy[column] = data_copy[column].apply(pd.to_datetime, errors='ignore', format=date_format)\n",
      "/Users/aidanbeilke/Desktop/Baseball Projects/.venv/lib/python3.11/site-packages/pybaseball/datahelpers/postprocessing.py:59: FutureWarning: errors='ignore' is deprecated and will raise in a future version. Use to_datetime without passing `errors` and catch exceptions explicitly instead\n",
      "  data_copy[column] = data_copy[column].apply(pd.to_datetime, errors='ignore', format=date_format)\n",
      "/Users/aidanbeilke/Desktop/Baseball Projects/.venv/lib/python3.11/site-packages/pybaseball/datahelpers/postprocessing.py:59: FutureWarning: errors='ignore' is deprecated and will raise in a future version. Use to_datetime without passing `errors` and catch exceptions explicitly instead\n",
      "  data_copy[column] = data_copy[column].apply(pd.to_datetime, errors='ignore', format=date_format)\n",
      "100%|██████████| 62/62 [00:21<00:00,  2.87it/s]\n",
      "/Users/aidanbeilke/Desktop/Baseball Projects/.venv/lib/python3.11/site-packages/pybaseball/statcast.py:85: FutureWarning: The behavior of DataFrame concatenation with empty or all-NA entries is deprecated. In a future version, this will no longer exclude empty or all-NA columns when determining the result dtypes. To retain the old behavior, exclude the relevant entries before the concat operation.\n",
      "  final_data = pd.concat(dataframe_list, axis=0).convert_dtypes(convert_string=False)\n"
     ]
    }
   ],
   "source": [
    "year = 2024\n",
    "\n",
    "df = statcast(start_dt= f\"{year}-03-30\",\n",
    "                end_dt = f\"{year}-05-30\")"
   ]
  },
  {
   "cell_type": "code",
   "execution_count": 95,
   "metadata": {},
   "outputs": [],
   "source": [
    "df['attack_zone'] = \"\"\n",
    "\n",
    "df.loc[(df['plate_x'].between(-0.558, 0.558)) & (df['plate_z'].between(1.833, 3.166)), 'attack_zone'] = 'heart'\n",
    "df.loc[(df['plate_x'].between(-1.100, 1.100)) & (df['plate_z'].between(1.166, 3.833)) & (~df['attack_zone'].isin(['heart'])), 'attack_zone'] = 'shadow'\n",
    "df.loc[(df['plate_x'].between(-1.166, 1.666)) & (df['plate_z'].between(0.5, 4.5)) & (~df['attack_zone'].isin(['heart', 'shadow'])), 'attack_zone'] = 'chase'\n",
    "\n",
    "df.loc[df['attack_zone'] == \"\", 'attack_zone'] = 'waste'"
   ]
  },
  {
   "cell_type": "code",
   "execution_count": 106,
   "metadata": {},
   "outputs": [],
   "source": [
    "# Reduced features to reduce noise \n",
    "\n",
    "short_cols = ['attack_zone', 'balls', 'strikes', 'plate_x', 'plate_z']\n",
    "\n",
    "short_continuous_cols = ['plate_x', 'plate_z']\n",
    "\n",
    "short_cat_cols = ['balls', 'strikes', 'attack_zone']"
   ]
  },
  {
   "cell_type": "code",
   "execution_count": 97,
   "metadata": {},
   "outputs": [],
   "source": [
    "df[short_continuous_cols] = StandardScaler().fit_transform(df[short_continuous_cols])\n"
   ]
  },
  {
   "cell_type": "code",
   "execution_count": 98,
   "metadata": {},
   "outputs": [
    {
     "data": {
      "text/plain": [
       "attack_zone    0.0\n",
       "plate_x        0.0\n",
       "plate_z        0.0\n",
       "balls          0.0\n",
       "strikes        0.0\n",
       "dtype: float64"
      ]
     },
     "execution_count": 98,
     "metadata": {},
     "output_type": "execute_result"
    }
   ],
   "source": [
    "calculate_null_percentage(df[short_cols])"
   ]
  },
  {
   "cell_type": "code",
   "execution_count": 99,
   "metadata": {},
   "outputs": [],
   "source": [
    "cats = ['attack_zone']\n",
    "\n",
    "for i in cats:\n",
    "    df[i] = df[i].astype('category').cat.codes"
   ]
  },
  {
   "cell_type": "code",
   "execution_count": 100,
   "metadata": {},
   "outputs": [],
   "source": [
    "# takes only\n",
    "\n",
    "df = df[~df['description'].isin(['hit_into_play', 'swinging_strike', 'foul'])]"
   ]
  },
  {
   "cell_type": "markdown",
   "metadata": {},
   "source": [
    "#### Apply Model"
   ]
  },
  {
   "cell_type": "code",
   "execution_count": 101,
   "metadata": {},
   "outputs": [],
   "source": [
    "take_model = joblib.load('sd_take_model.pkl')"
   ]
  },
  {
   "cell_type": "code",
   "execution_count": 107,
   "metadata": {},
   "outputs": [],
   "source": [
    "take_rv = take_model.predict(df[short_cols])"
   ]
  },
  {
   "cell_type": "code",
   "execution_count": 108,
   "metadata": {},
   "outputs": [],
   "source": [
    "df['pred_run_exp'] = take_rv\n",
    "\n",
    "final = df[short_continuous_cols + short_cat_cols + ['pred_run_exp', 'batter', 'description']]\n",
    "\n"
   ]
  },
  {
   "cell_type": "markdown",
   "metadata": {},
   "source": [
    "#### Find Leaders by Predicted Run Expectancy"
   ]
  },
  {
   "cell_type": "code",
   "execution_count": 111,
   "metadata": {},
   "outputs": [],
   "source": [
    "leaders = final.groupby(['batter']).agg(\n",
    "    pitches = ('batter','count'),\n",
    "    y_pred =  ('pred_run_exp','mean'),\n",
    "    )\n",
    "\n",
    "leaders = leaders[leaders['pitches'] >= 200].copy()"
   ]
  },
  {
   "cell_type": "code",
   "execution_count": 112,
   "metadata": {},
   "outputs": [
    {
     "data": {
      "text/html": [
       "<div>\n",
       "<style scoped>\n",
       "    .dataframe tbody tr th:only-of-type {\n",
       "        vertical-align: middle;\n",
       "    }\n",
       "\n",
       "    .dataframe tbody tr th {\n",
       "        vertical-align: top;\n",
       "    }\n",
       "\n",
       "    .dataframe thead th {\n",
       "        text-align: right;\n",
       "    }\n",
       "</style>\n",
       "<table border=\"1\" class=\"dataframe\">\n",
       "  <thead>\n",
       "    <tr style=\"text-align: right;\">\n",
       "      <th></th>\n",
       "      <th>batter</th>\n",
       "      <th>pitches</th>\n",
       "      <th>y_pred</th>\n",
       "    </tr>\n",
       "  </thead>\n",
       "  <tbody>\n",
       "    <tr>\n",
       "      <th>0</th>\n",
       "      <td>678882</td>\n",
       "      <td>245</td>\n",
       "      <td>0.027469</td>\n",
       "    </tr>\n",
       "    <tr>\n",
       "      <th>1</th>\n",
       "      <td>679032</td>\n",
       "      <td>234</td>\n",
       "      <td>0.029133</td>\n",
       "    </tr>\n",
       "    <tr>\n",
       "      <th>2</th>\n",
       "      <td>623912</td>\n",
       "      <td>205</td>\n",
       "      <td>0.030681</td>\n",
       "    </tr>\n",
       "    <tr>\n",
       "      <th>3</th>\n",
       "      <td>687952</td>\n",
       "      <td>210</td>\n",
       "      <td>0.030912</td>\n",
       "    </tr>\n",
       "    <tr>\n",
       "      <th>4</th>\n",
       "      <td>516782</td>\n",
       "      <td>297</td>\n",
       "      <td>0.031073</td>\n",
       "    </tr>\n",
       "    <tr>\n",
       "      <th>...</th>\n",
       "      <td>...</td>\n",
       "      <td>...</td>\n",
       "      <td>...</td>\n",
       "    </tr>\n",
       "    <tr>\n",
       "      <th>227</th>\n",
       "      <td>621466</td>\n",
       "      <td>201</td>\n",
       "      <td>0.047855</td>\n",
       "    </tr>\n",
       "    <tr>\n",
       "      <th>228</th>\n",
       "      <td>547180</td>\n",
       "      <td>335</td>\n",
       "      <td>0.048588</td>\n",
       "    </tr>\n",
       "    <tr>\n",
       "      <th>229</th>\n",
       "      <td>664774</td>\n",
       "      <td>335</td>\n",
       "      <td>0.048706</td>\n",
       "    </tr>\n",
       "    <tr>\n",
       "      <th>230</th>\n",
       "      <td>607043</td>\n",
       "      <td>437</td>\n",
       "      <td>0.048722</td>\n",
       "    </tr>\n",
       "    <tr>\n",
       "      <th>231</th>\n",
       "      <td>663656</td>\n",
       "      <td>400</td>\n",
       "      <td>0.051795</td>\n",
       "    </tr>\n",
       "  </tbody>\n",
       "</table>\n",
       "<p>232 rows × 3 columns</p>\n",
       "</div>"
      ],
      "text/plain": [
       "     batter  pitches    y_pred\n",
       "0    678882      245  0.027469\n",
       "1    679032      234  0.029133\n",
       "2    623912      205  0.030681\n",
       "3    687952      210  0.030912\n",
       "4    516782      297  0.031073\n",
       "..      ...      ...       ...\n",
       "227  621466      201  0.047855\n",
       "228  547180      335  0.048588\n",
       "229  664774      335  0.048706\n",
       "230  607043      437  0.048722\n",
       "231  663656      400  0.051795\n",
       "\n",
       "[232 rows x 3 columns]"
      ]
     },
     "execution_count": 112,
     "metadata": {},
     "output_type": "execute_result"
    }
   ],
   "source": [
    "leaders = leaders.sort_values(by = 'y_pred', ascending=True).reset_index().copy()\n",
    "\n",
    "leaders\n"
   ]
  },
  {
   "cell_type": "markdown",
   "metadata": {},
   "source": [
    "#### Get Players Names"
   ]
  },
  {
   "cell_type": "code",
   "execution_count": 113,
   "metadata": {},
   "outputs": [
    {
     "name": "stdout",
     "output_type": "stream",
     "text": [
      "Gathering player lookup table. This may take a moment.\n"
     ]
    }
   ],
   "source": [
    "chadwick_df = chadwick_register()"
   ]
  },
  {
   "cell_type": "code",
   "execution_count": 114,
   "metadata": {},
   "outputs": [
    {
     "name": "stderr",
     "output_type": "stream",
     "text": [
      "/var/folders/z9/0qsxxzxs1hb9r22xy18sfdbc0000gn/T/ipykernel_82044/1247763656.py:3: SettingWithCopyWarning: \n",
      "A value is trying to be set on a copy of a slice from a DataFrame.\n",
      "Try using .loc[row_indexer,col_indexer] = value instead\n",
      "\n",
      "See the caveats in the documentation: https://pandas.pydata.org/pandas-docs/stable/user_guide/indexing.html#returning-a-view-versus-a-copy\n",
      "  player_names['full_name'] = player_names['name_first'] + ' ' + player_names['name_last']\n"
     ]
    }
   ],
   "source": [
    "player_names = chadwick_df[chadwick_df['key_mlbam'].isin(leaders['batter'])]\n",
    "\n",
    "player_names['full_name'] = player_names['name_first'] + ' ' + player_names['name_last']\n",
    "\n",
    "names = player_names[['full_name', 'key_mlbam']]"
   ]
  },
  {
   "cell_type": "code",
   "execution_count": 115,
   "metadata": {},
   "outputs": [],
   "source": [
    "merged = leaders.merge(names, left_on = 'batter', right_on ='key_mlbam',\n",
    "                     how = 'inner')"
   ]
  },
  {
   "cell_type": "code",
   "execution_count": 116,
   "metadata": {},
   "outputs": [
    {
     "data": {
      "text/html": [
       "<div>\n",
       "<style scoped>\n",
       "    .dataframe tbody tr th:only-of-type {\n",
       "        vertical-align: middle;\n",
       "    }\n",
       "\n",
       "    .dataframe tbody tr th {\n",
       "        vertical-align: top;\n",
       "    }\n",
       "\n",
       "    .dataframe thead th {\n",
       "        text-align: right;\n",
       "    }\n",
       "</style>\n",
       "<table border=\"1\" class=\"dataframe\">\n",
       "  <thead>\n",
       "    <tr style=\"text-align: right;\">\n",
       "      <th></th>\n",
       "      <th>full_name</th>\n",
       "      <th>batter</th>\n",
       "      <th>y_pred</th>\n",
       "    </tr>\n",
       "  </thead>\n",
       "  <tbody>\n",
       "    <tr>\n",
       "      <th>231</th>\n",
       "      <td>Kyle Tucker</td>\n",
       "      <td>663656</td>\n",
       "      <td>0.051795</td>\n",
       "    </tr>\n",
       "    <tr>\n",
       "      <th>230</th>\n",
       "      <td>Brandon Nimmo</td>\n",
       "      <td>607043</td>\n",
       "      <td>0.048722</td>\n",
       "    </tr>\n",
       "    <tr>\n",
       "      <th>229</th>\n",
       "      <td>LaMonte Wade</td>\n",
       "      <td>664774</td>\n",
       "      <td>0.048706</td>\n",
       "    </tr>\n",
       "    <tr>\n",
       "      <th>228</th>\n",
       "      <td>Bryce Harper</td>\n",
       "      <td>547180</td>\n",
       "      <td>0.048588</td>\n",
       "    </tr>\n",
       "    <tr>\n",
       "      <th>227</th>\n",
       "      <td>DJ Stewart</td>\n",
       "      <td>621466</td>\n",
       "      <td>0.047855</td>\n",
       "    </tr>\n",
       "  </tbody>\n",
       "</table>\n",
       "</div>"
      ],
      "text/plain": [
       "         full_name  batter    y_pred\n",
       "231    Kyle Tucker  663656  0.051795\n",
       "230  Brandon Nimmo  607043  0.048722\n",
       "229   LaMonte Wade  664774  0.048706\n",
       "228   Bryce Harper  547180  0.048588\n",
       "227     DJ Stewart  621466  0.047855"
      ]
     },
     "execution_count": 116,
     "metadata": {},
     "output_type": "execute_result"
    }
   ],
   "source": [
    "check = merged[['full_name', 'batter', 'y_pred']].sort_values(by = 'y_pred', ascending=False)\n",
    "\n",
    "check.head()"
   ]
  },
  {
   "cell_type": "markdown",
   "metadata": {},
   "source": [
    "#### Create Take Stat"
   ]
  },
  {
   "cell_type": "code",
   "execution_count": 118,
   "metadata": {},
   "outputs": [
    {
     "data": {
      "text/html": [
       "<div>\n",
       "<style scoped>\n",
       "    .dataframe tbody tr th:only-of-type {\n",
       "        vertical-align: middle;\n",
       "    }\n",
       "\n",
       "    .dataframe tbody tr th {\n",
       "        vertical-align: top;\n",
       "    }\n",
       "\n",
       "    .dataframe thead th {\n",
       "        text-align: right;\n",
       "    }\n",
       "</style>\n",
       "<table border=\"1\" class=\"dataframe\">\n",
       "  <thead>\n",
       "    <tr style=\"text-align: right;\">\n",
       "      <th></th>\n",
       "      <th>full_name</th>\n",
       "      <th>batter</th>\n",
       "      <th>y_pred</th>\n",
       "      <th>take_rv</th>\n",
       "    </tr>\n",
       "  </thead>\n",
       "  <tbody>\n",
       "    <tr>\n",
       "      <th>231</th>\n",
       "      <td>Kyle Tucker</td>\n",
       "      <td>663656</td>\n",
       "      <td>0.051795</td>\n",
       "      <td>146.880341</td>\n",
       "    </tr>\n",
       "    <tr>\n",
       "      <th>230</th>\n",
       "      <td>Brandon Nimmo</td>\n",
       "      <td>607043</td>\n",
       "      <td>0.048722</td>\n",
       "      <td>135.447021</td>\n",
       "    </tr>\n",
       "    <tr>\n",
       "      <th>229</th>\n",
       "      <td>LaMonte Wade</td>\n",
       "      <td>664774</td>\n",
       "      <td>0.048706</td>\n",
       "      <td>135.387512</td>\n",
       "    </tr>\n",
       "    <tr>\n",
       "      <th>228</th>\n",
       "      <td>Bryce Harper</td>\n",
       "      <td>547180</td>\n",
       "      <td>0.048588</td>\n",
       "      <td>134.949554</td>\n",
       "    </tr>\n",
       "    <tr>\n",
       "      <th>227</th>\n",
       "      <td>DJ Stewart</td>\n",
       "      <td>621466</td>\n",
       "      <td>0.047855</td>\n",
       "      <td>132.222641</td>\n",
       "    </tr>\n",
       "    <tr>\n",
       "      <th>226</th>\n",
       "      <td>Joc Pederson</td>\n",
       "      <td>592626</td>\n",
       "      <td>0.046837</td>\n",
       "      <td>128.434494</td>\n",
       "    </tr>\n",
       "    <tr>\n",
       "      <th>225</th>\n",
       "      <td>Juan Soto</td>\n",
       "      <td>665742</td>\n",
       "      <td>0.046362</td>\n",
       "      <td>126.666702</td>\n",
       "    </tr>\n",
       "    <tr>\n",
       "      <th>224</th>\n",
       "      <td>Aaron Judge</td>\n",
       "      <td>592450</td>\n",
       "      <td>0.045962</td>\n",
       "      <td>125.180428</td>\n",
       "    </tr>\n",
       "    <tr>\n",
       "      <th>223</th>\n",
       "      <td>Josh Naylor</td>\n",
       "      <td>647304</td>\n",
       "      <td>0.045908</td>\n",
       "      <td>124.977623</td>\n",
       "    </tr>\n",
       "    <tr>\n",
       "      <th>222</th>\n",
       "      <td>Jorge Polanco</td>\n",
       "      <td>593871</td>\n",
       "      <td>0.045828</td>\n",
       "      <td>124.679810</td>\n",
       "    </tr>\n",
       "    <tr>\n",
       "      <th>221</th>\n",
       "      <td>William Contreras</td>\n",
       "      <td>661388</td>\n",
       "      <td>0.045815</td>\n",
       "      <td>124.632500</td>\n",
       "    </tr>\n",
       "    <tr>\n",
       "      <th>220</th>\n",
       "      <td>Gavin Sheets</td>\n",
       "      <td>657757</td>\n",
       "      <td>0.045648</td>\n",
       "      <td>124.012192</td>\n",
       "    </tr>\n",
       "    <tr>\n",
       "      <th>219</th>\n",
       "      <td>Marcell Ozuna</td>\n",
       "      <td>542303</td>\n",
       "      <td>0.045414</td>\n",
       "      <td>123.139061</td>\n",
       "    </tr>\n",
       "    <tr>\n",
       "      <th>218</th>\n",
       "      <td>Willson Contreras</td>\n",
       "      <td>575929</td>\n",
       "      <td>0.045323</td>\n",
       "      <td>122.800209</td>\n",
       "    </tr>\n",
       "    <tr>\n",
       "      <th>217</th>\n",
       "      <td>Mike Tauchman</td>\n",
       "      <td>643565</td>\n",
       "      <td>0.045269</td>\n",
       "      <td>122.602432</td>\n",
       "    </tr>\n",
       "    <tr>\n",
       "      <th>216</th>\n",
       "      <td>Freddie Freeman</td>\n",
       "      <td>518692</td>\n",
       "      <td>0.045267</td>\n",
       "      <td>122.591705</td>\n",
       "    </tr>\n",
       "    <tr>\n",
       "      <th>215</th>\n",
       "      <td>Andrew McCutchen</td>\n",
       "      <td>457705</td>\n",
       "      <td>0.045223</td>\n",
       "      <td>122.429047</td>\n",
       "    </tr>\n",
       "    <tr>\n",
       "      <th>214</th>\n",
       "      <td>Joey Gallo</td>\n",
       "      <td>608336</td>\n",
       "      <td>0.045138</td>\n",
       "      <td>122.113670</td>\n",
       "    </tr>\n",
       "    <tr>\n",
       "      <th>213</th>\n",
       "      <td>José Altuve</td>\n",
       "      <td>514888</td>\n",
       "      <td>0.045020</td>\n",
       "      <td>121.672981</td>\n",
       "    </tr>\n",
       "    <tr>\n",
       "      <th>212</th>\n",
       "      <td>Jon Singleton</td>\n",
       "      <td>572138</td>\n",
       "      <td>0.045004</td>\n",
       "      <td>121.612991</td>\n",
       "    </tr>\n",
       "  </tbody>\n",
       "</table>\n",
       "</div>"
      ],
      "text/plain": [
       "             full_name  batter    y_pred     take_rv\n",
       "231        Kyle Tucker  663656  0.051795  146.880341\n",
       "230      Brandon Nimmo  607043  0.048722  135.447021\n",
       "229       LaMonte Wade  664774  0.048706  135.387512\n",
       "228       Bryce Harper  547180  0.048588  134.949554\n",
       "227         DJ Stewart  621466  0.047855  132.222641\n",
       "226       Joc Pederson  592626  0.046837  128.434494\n",
       "225          Juan Soto  665742  0.046362  126.666702\n",
       "224        Aaron Judge  592450  0.045962  125.180428\n",
       "223        Josh Naylor  647304  0.045908  124.977623\n",
       "222      Jorge Polanco  593871  0.045828  124.679810\n",
       "221  William Contreras  661388  0.045815  124.632500\n",
       "220       Gavin Sheets  657757  0.045648  124.012192\n",
       "219      Marcell Ozuna  542303  0.045414  123.139061\n",
       "218  Willson Contreras  575929  0.045323  122.800209\n",
       "217      Mike Tauchman  643565  0.045269  122.602432\n",
       "216    Freddie Freeman  518692  0.045267  122.591705\n",
       "215   Andrew McCutchen  457705  0.045223  122.429047\n",
       "214         Joey Gallo  608336  0.045138  122.113670\n",
       "213        José Altuve  514888  0.045020  121.672981\n",
       "212      Jon Singleton  572138  0.045004  121.612991"
      ]
     },
     "execution_count": 118,
     "metadata": {},
     "output_type": "execute_result"
    }
   ],
   "source": [
    "check['take_rv'] = ((check['y_pred'] - check['y_pred'].mean()) / check['y_pred'].std()) * 15 + 100\n",
    "check.head(20)"
   ]
  },
  {
   "cell_type": "markdown",
   "metadata": {},
   "source": [
    "#### Export csv"
   ]
  },
  {
   "cell_type": "code",
   "execution_count": 119,
   "metadata": {},
   "outputs": [],
   "source": [
    "check.to_csv(\"take_leaders.csv\")"
   ]
  }
 ],
 "metadata": {
  "kernelspec": {
   "display_name": ".venv",
   "language": "python",
   "name": "python3"
  },
  "language_info": {
   "codemirror_mode": {
    "name": "ipython",
    "version": 3
   },
   "file_extension": ".py",
   "mimetype": "text/x-python",
   "name": "python",
   "nbconvert_exporter": "python",
   "pygments_lexer": "ipython3",
   "version": "3.11.4"
  }
 },
 "nbformat": 4,
 "nbformat_minor": 2
}
